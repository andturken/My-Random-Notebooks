{
 "cells": [
  {
   "cell_type": "markdown",
   "metadata": {},
   "source": [
    "# Pooled variance\n",
    "27 Octobre 2015"
   ]
  },
  {
   "cell_type": "code",
   "execution_count": 1,
   "metadata": {
    "collapsed": true
   },
   "outputs": [],
   "source": [
    "import numpy as np\n",
    "from scipy import stats as stat"
   ]
  },
  {
   "cell_type": "code",
   "execution_count": 2,
   "metadata": {
    "collapsed": false
   },
   "outputs": [],
   "source": [
    "def pooled_var(n,sd):\n",
    "    var=0;\n",
    "    nsum=0;\n",
    "    for i in range(0,len(n)):\n",
    "        var+=(n[i]-1)*np.power(sd[i],2);\n",
    "        nsum+=n[i]-1;\n",
    "    return var/nsum;"
   ]
  },
  {
   "cell_type": "code",
   "execution_count": 3,
   "metadata": {
    "collapsed": false
   },
   "outputs": [],
   "source": [
    "wt_n=[75,100,67,104,128,359,191,60,460,176,485];\n",
    "wt_sd=[24.248711306,52,51.567722463,18.356470249,64.488138444,71.999722222,5.5281099844,77.459666924,12.868566354,95.518793962,13.213629327];\n",
    "wt_sp=[13.9,22.9,21.9,9.5,61.3,62.2,3.1,57,10.4,75,7.8];\n",
    "\n",
    "a7ko_n=[294,480,93,304];\n",
    "a7ko_sd=[78.873569718,39.43602414,58.826269642,83.690859716];\n",
    "a7ko_sp=[64.9,17.3,47.2,79.9];\n",
    "\n",
    "b2ko_n=[231,715,723,377,51,386,716];\n",
    "b2ko_sd=[85.11263126,96.262142091,72.599380163,62.132761085,74.270855657,86.446283899,50.840535009];\n",
    "b2ko_sp=[121.7,88.3,52.3,40.9,137.4,118.2,40.9];\n",
    "\n",
    "a5ko_n=[370,130,58,115,260,124,166];\n",
    "a5ko_sd=[21.158922468,36.485613603,39.60202015,20.37523006,9.674709298,17.816845961,9.0188691087];\n",
    "a5ko_sp=[3.5,16.3,22.3,12.4,3,10.3,7.9];\n",
    "\n",
    "a5snp_n=[424,211,134,57,41,73,165,62,132,77,41];\n",
    "a5snp_sd=[20.591260282,68.271443518,59.036768204,6.7948509917,23.691559679,52.972823221,10.276186063,7.0866070866,19.531512998,21.937410968,42.260619967];\n",
    "a5snp_sp=[5.4,40.8,47.6,4.1,17.4,29.2,6.8,7.5,7.2,18.2,34];\n"
   ]
  },
  {
   "cell_type": "code",
   "execution_count": 4,
   "metadata": {
    "collapsed": false
   },
   "outputs": [
    {
     "name": "stdout",
     "output_type": "stream",
     "text": [
      "(649.65140495867752, 2289.1679033747978)\n"
     ]
    }
   ],
   "source": [
    "print(np.var(wt_sp),pooled_var(wt_n,wt_sd))"
   ]
  },
  {
   "cell_type": "code",
   "execution_count": 5,
   "metadata": {
    "collapsed": false
   },
   "outputs": [
    {
     "name": "stdout",
     "output_type": "stream",
     "text": [
      "Variance\n",
      "[2289.1679033747978, 4291.6321850933482, 5808.3745676688732, 452.59544407761604, 1441.7901706983278]\n",
      "Pooled N\n",
      "[2205, 1171, 3199, 1223, 1417]\n",
      "Standard Deviation\n",
      "[ 47.84524954  65.51055018  76.21269296  21.27429068  37.97091217]\n",
      "Standard Error\n",
      "[ 1.01890696  1.9144005   1.34747336  0.60833368  1.00870949]\n",
      "\n",
      "F tests\n",
      "(0, 1, 1.8747564033055086, 1171, 2205, 0.0012834668597225818)\n",
      "(0, 2, 2.5373300748738865, 3199, 2205, 4.2233042861328229e-05)\n",
      "(0, 3, 5.0578677565791539, 2205, 1223, 1.0709201747616248e-08)\n",
      "(0, 4, 1.5877261129239386, 2205, 1417, 0.0019854773670103798)\n",
      "(1, 2, 1.3534185403501755, 3199, 1171, 0.0036054020410291043)\n",
      "(1, 3, 9.4822699637192365, 1171, 1223, 5.9174887212520844e-14)\n",
      "(1, 4, 2.9765996968995192, 1171, 1417, 3.719190684248197e-05)\n",
      "(2, 3, 12.8334799735032, 3199, 1223, 1.1102230246251565e-16)\n",
      "(2, 4, 4.0285852169845215, 3199, 1417, 1.7636342541926808e-07)\n",
      "(3, 4, 3.1856046930314963, 1417, 1223, 1.4129861871436944e-05)\n"
     ]
    }
   ],
   "source": [
    "n =[np.sum(wt_n),\n",
    "    np.sum(a7ko_n),\n",
    "    np.sum(b2ko_n),\n",
    "    np.sum(a5ko_n),\n",
    "    np.sum(a5snp_n)];\n",
    "var =[pooled_var(wt_n,wt_sd),\n",
    "      pooled_var(a7ko_n,a7ko_sd),\n",
    "      pooled_var(b2ko_n,b2ko_sd),\n",
    "      pooled_var(a5ko_n,a5ko_sd),\n",
    "      pooled_var(a5snp_n,a5snp_sd)];\n",
    "print(\"Variance\");print(var);\n",
    "print(\"Pooled N\");print(n);\n",
    "print(\"Standard Deviation\");print(np.sqrt(var));\n",
    "print(\"Standard Error\");print(np.sqrt(var)/np.sqrt(n));\n",
    "\n",
    "print(\"\\nF tests\");\n",
    "for i in range(0,len(var)):\n",
    "    for j in range(i+1,len(var)):\n",
    "        if(var[i]>var[j]):\n",
    "            F=var[i]/var[j];\n",
    "            print(i,j,F,n[i],n[j],1-stat.f.cdf(n[i]-1,n[j]-1,F));\n",
    "        else:\n",
    "            F=var[j]/var[i];\n",
    "            print(i,j,F,n[j],n[i],1-stat.f.cdf(n[j]-1,n[i]-1,F));"
   ]
  },
  {
   "cell_type": "code",
   "execution_count": 70,
   "metadata": {
    "collapsed": false
   },
   "outputs": [
    {
     "data": {
      "text/plain": [
       "2205"
      ]
     },
     "execution_count": 70,
     "metadata": {},
     "output_type": "execute_result"
    }
   ],
   "source": [
    "np.sum(wt_n)"
   ]
  },
  {
   "cell_type": "code",
   "execution_count": null,
   "metadata": {
    "collapsed": true
   },
   "outputs": [],
   "source": []
  }
 ],
 "metadata": {
  "kernelspec": {
   "display_name": "Python 2",
   "language": "python",
   "name": "python2"
  },
  "language_info": {
   "codemirror_mode": {
    "name": "ipython",
    "version": 2
   },
   "file_extension": ".py",
   "mimetype": "text/x-python",
   "name": "python",
   "nbconvert_exporter": "python",
   "pygments_lexer": "ipython2",
   "version": "2.7.3"
  }
 },
 "nbformat": 4,
 "nbformat_minor": 0
}
