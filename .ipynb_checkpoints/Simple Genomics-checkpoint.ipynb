{
 "cells": [
  {
   "cell_type": "markdown",
   "metadata": {},
   "source": [
    "# Simple Genomic Analyses Using the ADNI dataset\n",
    "Roberto Toro, Valparaíso 2016"
   ]
  },
  {
   "cell_type": "markdown",
   "metadata": {},
   "source": [
    "We will use public data from the ADNI project (Alzheimer Disease Neuroimaging Initiative). We will obtain demographic, phenotypic and genetic variables from here:\n",
    "\n",
    "http://adni.loni.usc.edu/"
   ]
  },
  {
   "cell_type": "markdown",
   "metadata": {},
   "source": [
    "Genome: chromosomes, genes, introns, exons\n",
    "Evolution: Allele frequency, linkage disequilibrium, population structure"
   ]
  },
  {
   "cell_type": "code",
   "execution_count": 21,
   "metadata": {
    "collapsed": false
   },
   "outputs": [
    {
     "name": "stdout",
     "output_type": "stream",
     "text": [
      "\n",
      "@----------------------------------------------------------@\n",
      "|        PLINK!       |     v1.07      |   10/Aug/2009     |\n",
      "|----------------------------------------------------------|\n",
      "|  (C) 2009 Shaun Purcell, GNU General Public License, v2  |\n",
      "|----------------------------------------------------------|\n",
      "|  For documentation, citation & bug-report instructions:  |\n",
      "|        http://pngu.mgh.harvard.edu/purcell/plink/        |\n",
      "@----------------------------------------------------------@\n",
      "\n",
      "Web-based version check ( --noweb to skip )\n",
      "Recent cached web-check found... OK, v1.07 is current\n",
      "\n",
      "+++ PLINK 1.9 is now available! See above website for details +++ \n",
      "\n",
      "Writing this text to log file [ Simple_Genomics/out.log ]\n",
      "Analysis started: Sun Dec 11 08:23:21 2016\n",
      "\n",
      "Options in effect:\n",
      "\t--bfile Simple_Genomics/adni100k\n",
      "\t--out Simple_Genomics/out\n",
      "\n",
      "Reading map (extended format) from [ Simple_Genomics/adni100k.bim ] \n",
      "100257 markers to be included from [ Simple_Genomics/adni100k.bim ]\n",
      "Reading pedigree information from [ Simple_Genomics/adni100k.fam ] \n",
      "757 individuals read from [ Simple_Genomics/adni100k.fam ] \n",
      "0 individuals with nonmissing phenotypes\n",
      "Assuming a disease phenotype (1=unaff, 2=aff, 0=miss)\n",
      "Missing phenotype value is also -9\n",
      "0 cases, 0 controls and 757 missing\n",
      "449 males, 308 females, and 0 of unspecified sex\n",
      "Reading genotype bitfile from [ Simple_Genomics/adni100k.bed ] \n",
      "Detected that binary PED file is v1.00 SNP-major mode\n",
      "Before frequency and genotyping pruning, there are 100257 SNPs\n",
      "757 founders and 0 non-founders found\n",
      "1020 heterozygous haploid genotypes; set to missing\n",
      "Writing list of heterozygous haploid genotypes to [ Simple_Genomics/out.hh ]\n",
      "4545 SNPs with no founder genotypes observed\n",
      "Warning, MAF set to 0 for these SNPs (see --nonfounders)\n",
      "Writing list of these SNPs to [ Simple_Genomics/out.nof ]\n",
      "Total genotyping rate in remaining individuals is 0.949356\n",
      "0 SNPs failed missingness test ( GENO > 1 )\n",
      "0 SNPs failed frequency test ( MAF < 0 )\n",
      "After frequency and genotyping pruning, there are 100257 SNPs\n",
      "After filtering, 0 cases, 0 controls and 757 missing\n",
      "After filtering, 449 males, 308 females, and 0 of unspecified sex\n",
      "\n",
      "Analysis finished: Sun Dec 11 08:23:25 2016\n",
      "\n"
     ]
    }
   ],
   "source": [
    "%%bash\n",
    "geno=\"Simple_Genomics/adni100k\"\n",
    "plink=\"Simple_Genomics/plink-1.07-mac-intel/plink\"\n",
    "$plink --bfile $geno --out \"Simple_Genomics/out\""
   ]
  },
  {
   "cell_type": "code",
   "execution_count": 25,
   "metadata": {
    "collapsed": false
   },
   "outputs": [
    {
     "name": "stdout",
     "output_type": "stream",
     "text": [
      "\n",
      "@----------------------------------------------------------@\n",
      "|        PLINK!       |     v1.07      |   10/Aug/2009     |\n",
      "|----------------------------------------------------------|\n",
      "|  (C) 2009 Shaun Purcell, GNU General Public License, v2  |\n",
      "|----------------------------------------------------------|\n",
      "|  For documentation, citation & bug-report instructions:  |\n",
      "|        http://pngu.mgh.harvard.edu/purcell/plink/        |\n",
      "@----------------------------------------------------------@\n",
      "\n",
      "Web-based version check ( --noweb to skip )\n",
      "Recent cached web-check found... OK, v1.07 is current\n",
      "\n",
      "+++ PLINK 1.9 is now available! See above website for details +++ \n",
      "\n",
      "Writing this text to log file [ Simple_Genomics/adni100kFiltered.log ]\n",
      "Analysis started: Sun Dec 11 12:21:59 2016\n",
      "\n",
      "Options in effect:\n",
      "\t--bfile Simple_Genomics/adni100k\n",
      "\t--out Simple_Genomics/adni100kFiltered\n",
      "\t--maf 0.05\n",
      "\t--geno 0.01\n",
      "\t--hwe 1e-6\n",
      "\t--mind 0.1\n",
      "\t--make-bed\n",
      "\n",
      "Reading map (extended format) from [ Simple_Genomics/adni100k.bim ] \n",
      "100257 markers to be included from [ Simple_Genomics/adni100k.bim ]\n",
      "Reading pedigree information from [ Simple_Genomics/adni100k.fam ] \n",
      "757 individuals read from [ Simple_Genomics/adni100k.fam ] \n",
      "0 individuals with nonmissing phenotypes\n",
      "Assuming a disease phenotype (1=unaff, 2=aff, 0=miss)\n",
      "Missing phenotype value is also -9\n",
      "0 cases, 0 controls and 757 missing\n",
      "449 males, 308 females, and 0 of unspecified sex\n",
      "Reading genotype bitfile from [ Simple_Genomics/adni100k.bed ] \n",
      "Detected that binary PED file is v1.00 SNP-major mode\n",
      "Before frequency and genotyping pruning, there are 100257 SNPs\n",
      "757 founders and 0 non-founders found\n",
      "Writing list of removed individuals to [ Simple_Genomics/adni100kFiltered.irem ]\n",
      "1 of 757 individuals removed for low genotyping ( MIND > 0.1 )\n",
      "963 heterozygous haploid genotypes; set to missing\n",
      "Writing list of heterozygous haploid genotypes to [ Simple_Genomics/adni100kFiltered.hh ]\n",
      "433 markers to be excluded based on HWE test ( p <= 1e-06 )\n",
      "\t0 markers failed HWE test in cases\n",
      "\t0 markers failed HWE test in controls\n",
      "Total genotyping rate in remaining individuals is 0.949437\n",
      "15461 SNPs failed missingness test ( GENO > 0.01 )\n",
      "13808 SNPs failed frequency test ( MAF < 0.05 )\n",
      "After frequency and genotyping pruning, there are 76551 SNPs\n",
      "After filtering, 0 cases, 0 controls and 756 missing\n",
      "After filtering, 448 males, 308 females, and 0 of unspecified sex\n",
      "Writing pedigree information to [ Simple_Genomics/adni100kFiltered.fam ] \n",
      "Writing map (extended format) information to [ Simple_Genomics/adni100kFiltered.bim ] \n",
      "Writing genotype bitfile to [ Simple_Genomics/adni100kFiltered.bed ] \n",
      "Using (default) SNP-major mode\n",
      "\n",
      "Analysis finished: Sun Dec 11 12:22:07 2016\n",
      "\n"
     ]
    },
    {
     "name": "stderr",
     "output_type": "stream",
     "text": [
      "bash: line 5: fg: no job control\n"
     ]
    }
   ],
   "source": [
    "%%bash\n",
    "geno=\"Simple_Genomics/adni100k\"\n",
    "plink=\"Simple_Genomics/plink-1.07-mac-intel/plink\"\n",
    "\n",
    "# Filter SNPs with standard criteria for quality\n",
    "%%bash\n",
    "geno=\"Simple_Genomics/adni100k\"\n",
    "plink=\"Simple_Genomics/plink-1.07-mac-intel/plink\"\n",
    "$plink --bfile $geno --out \"Simple_Genomics/adni100kFiltered\" --maf 0.05 --geno 0.01 --hwe 1e-6 --mind 0.1 --make-bed"
   ]
  },
  {
   "cell_type": "code",
   "execution_count": 26,
   "metadata": {
    "collapsed": false
   },
   "outputs": [
    {
     "name": "stdout",
     "output_type": "stream",
     "text": [
      "\n",
      "@----------------------------------------------------------@\n",
      "|        PLINK!       |     v1.07      |   10/Aug/2009     |\n",
      "|----------------------------------------------------------|\n",
      "|  (C) 2009 Shaun Purcell, GNU General Public License, v2  |\n",
      "|----------------------------------------------------------|\n",
      "|  For documentation, citation & bug-report instructions:  |\n",
      "|        http://pngu.mgh.harvard.edu/purcell/plink/        |\n",
      "@----------------------------------------------------------@\n",
      "\n",
      "Web-based version check ( --noweb to skip )\n",
      "Recent cached web-check found... OK, v1.07 is current\n",
      "\n",
      "+++ PLINK 1.9 is now available! See above website for details +++ \n",
      "\n",
      "Writing this text to log file [ Simple_Genomics/out.log ]\n",
      "Analysis started: Sun Dec 11 12:22:20 2016\n",
      "\n",
      "Options in effect:\n",
      "\t--bfile Simple_Genomics/adni100kFiltered\n",
      "\t--out Simple_Genomics/out\n",
      "\t--freq\n",
      "\n",
      "Reading map (extended format) from [ Simple_Genomics/adni100kFiltered.bim ] \n",
      "76551 markers to be included from [ Simple_Genomics/adni100kFiltered.bim ]\n",
      "Reading pedigree information from [ Simple_Genomics/adni100kFiltered.fam ] \n",
      "756 individuals read from [ Simple_Genomics/adni100kFiltered.fam ] \n",
      "0 individuals with nonmissing phenotypes\n",
      "Assuming a disease phenotype (1=unaff, 2=aff, 0=miss)\n",
      "Missing phenotype value is also -9\n",
      "0 cases, 0 controls and 756 missing\n",
      "448 males, 308 females, and 0 of unspecified sex\n",
      "Reading genotype bitfile from [ Simple_Genomics/adni100kFiltered.bed ] \n",
      "Detected that binary PED file is v1.00 SNP-major mode\n",
      "Before frequency and genotyping pruning, there are 76551 SNPs\n",
      "756 founders and 0 non-founders found\n",
      "53 heterozygous haploid genotypes; set to missing\n",
      "Writing list of heterozygous haploid genotypes to [ Simple_Genomics/out.hh ]\n",
      "Writing allele frequencies (founders-only) to [ Simple_Genomics/out.frq ] \n",
      "\n",
      "Analysis finished: Sun Dec 11 12:22:23 2016\n",
      "\n"
     ]
    }
   ],
   "source": [
    "%%bash\n",
    "geno=\"Simple_Genomics/adni100kFiltered\"\n",
    "plink=\"Simple_Genomics/plink-1.07-mac-intel/plink\"\n",
    "$plink --bfile $geno --out \"Simple_Genomics/out\" --freq"
   ]
  },
  {
   "cell_type": "code",
   "execution_count": 27,
   "metadata": {
    "collapsed": false
   },
   "outputs": [
    {
     "name": "stdout",
     "output_type": "stream",
     "text": [
      "Populating the interactive namespace from numpy and matplotlib\n"
     ]
    }
   ],
   "source": [
    "%pylab inline"
   ]
  },
  {
   "cell_type": "code",
   "execution_count": 2,
   "metadata": {
    "collapsed": true
   },
   "outputs": [],
   "source": [
    "import sys\n",
    "import urllib2 as url\n",
    "import re\n",
    "import numpy as np\n",
    "import pandas as pd\n",
    "import statsmodels.api as sm\n",
    "import statsmodels.formula.api as smf\n",
    "import statsmodels.stats.power as smp\n",
    "import matplotlib.pyplot as plt\n",
    "from StringIO import StringIO\n",
    "import json\n",
    "\n",
    "# Install seaborn typing `conda install seaborn`\n",
    "import seaborn as sns\n",
    "\n",
    "# printf is an old friend from C\n",
    "def printf(format, *args):\n",
    "    sys.stdout.write(format % args)"
   ]
  },
  {
   "cell_type": "code",
   "execution_count": 29,
   "metadata": {
    "collapsed": false
   },
   "outputs": [
    {
     "name": "stdout",
     "output_type": "stream",
     "text": [
      " CHR          SNP   A1   A2          MAF  NCHROBS\n",
      "   1   rs11807848    C    T       0.3922     1512\n",
      "   1    rs9442373    C    A        0.439     1508\n",
      "   1   rs12145826    A    G      0.06897     1508\n",
      "   1    rs3813199    T    C        0.083     1506\n",
      "   1   rs12410087    C    A        0.109     1504\n",
      "   1    rs2649588    G    A      0.07672     1512\n",
      "   1    rs3128342    T    G       0.4848     1510\n",
      "   1    rs2296716    A    G       0.1197     1512\n",
      "   1   rs35672141    A    G        0.463     1512\n",
      "   1    rs7525092    T    C       0.2513     1512\n",
      "   1    rs2474460    A    G       0.4544     1512\n",
      "   1    rs2803329    A    G       0.2082     1508\n",
      "   1    rs2803291    A    G        0.203     1512\n",
      "   1   rs13303016    C    T       0.1573     1500\n",
      "   1    rs6605074    T    C        0.207     1512\n",
      "   1     rs884080    A    G       0.4987     1512\n",
      "   1    rs7553178    G    A       0.3073     1510\n",
      "   1    rs2055204    G    A       0.4616     1512\n",
      "   1    rs4648831    T    C       0.1951     1512\n"
     ]
    }
   ],
   "source": [
    "# Minor-allele frequency (MAF)\n",
    "f1 = open('Simple_Genomics/out.frq', 'r')\n",
    "for i in range(0,20):\n",
    "    printf(\"%s\",f1.readline())\n",
    "f1.close()"
   ]
  },
  {
   "cell_type": "code",
   "execution_count": 30,
   "metadata": {
    "collapsed": false
   },
   "outputs": [
    {
     "data": {
      "text/plain": [
       "<matplotlib.axes._subplots.AxesSubplot at 0x11f82c850>"
      ]
     },
     "execution_count": 30,
     "metadata": {},
     "output_type": "execute_result"
    },
    {
     "data": {
      "image/png": "[encoded data removed]",
      "text/plain": [
       "<matplotlib.figure.Figure at 0x10c820f10>"
      ]
     },
     "metadata": {},
     "output_type": "display_data"
    }
   ],
   "source": [
    "# Histogram of MAF\n",
    "maf_df=pd.read_csv('Simple_Genomics/out.frq',sep='\\s+',header=0)\n",
    "maf_df.plot(y='MAF',kind='hist')"
   ]
  },
  {
   "cell_type": "code",
   "execution_count": 31,
   "metadata": {
    "collapsed": false
   },
   "outputs": [
    {
     "name": "stdout",
     "output_type": "stream",
     "text": [
      "chr1 5816\n",
      "chr2 6232\n",
      "chr3 5252\n",
      "chr4 4597\n",
      "chr5 4723\n",
      "chr6 5149\n",
      "chr7 4185\n",
      "chr8 4310\n",
      "chr9 3691\n",
      "chr10 3928\n",
      "chr11 3716\n",
      "chr12 3702\n",
      "chr13 2858\n",
      "chr14 2457\n",
      "chr15 2226\n",
      "chr16 2330\n",
      "chr17 1969\n",
      "chr18 2325\n",
      "chr19 1244\n",
      "chr20 1926\n",
      "chr21 1083\n",
      "chr22 1098\n"
     ]
    }
   ],
   "source": [
    "%%bash\n",
    "geno=\"Simple_Genomics/adni100kFiltered\"\n",
    "plink=\"Simple_Genomics/plink-1.07-mac-intel/plink\"\n",
    "\n",
    "# Number of SNPs per chromosome\n",
    "\n",
    "for ((i=1;i<23;i++)); do\n",
    "    echo -n \"chr${i} \"\n",
    "    $plink --bfile $geno --chr $i|grep \"After frequency and genotyping pruning, there are\"|awk '{print $8}'\n",
    "done"
   ]
  },
  {
   "cell_type": "code",
   "execution_count": 32,
   "metadata": {
    "collapsed": false
   },
   "outputs": [
    {
     "name": "stdout",
     "output_type": "stream",
     "text": [
      "\n",
      "@----------------------------------------------------------@\n",
      "|        PLINK!       |     v1.07      |   10/Aug/2009     |\n",
      "|----------------------------------------------------------|\n",
      "|  (C) 2009 Shaun Purcell, GNU General Public License, v2  |\n",
      "|----------------------------------------------------------|\n",
      "|  For documentation, citation & bug-report instructions:  |\n",
      "|        http://pngu.mgh.harvard.edu/purcell/plink/        |\n",
      "@----------------------------------------------------------@\n",
      "\n",
      "Web-based version check ( --noweb to skip )\n",
      "Recent cached web-check found... OK, v1.07 is current\n",
      "\n",
      "+++ PLINK 1.9 is now available! See above website for details +++ \n",
      "\n",
      "Writing this text to log file [ Simple_Genomics/out.log ]\n",
      "Analysis started: Sun Dec 11 12:23:26 2016\n",
      "\n",
      "Options in effect:\n",
      "\t--bfile Simple_Genomics/adni100kFiltered\n",
      "\t--out Simple_Genomics/out\n",
      "\t--chr 22\n",
      "\t--r2\n",
      "\t--matrix\n",
      "\n",
      "Reading map (extended format) from [ Simple_Genomics/adni100kFiltered.bim ] \n",
      "76551 markers to be included from [ Simple_Genomics/adni100kFiltered.bim ]\n",
      "Scan region on chromosome 22 from [ rs9604967 ] to [ rs6010061 ]\n",
      "Reading pedigree information from [ Simple_Genomics/adni100kFiltered.fam ] \n",
      "756 individuals read from [ Simple_Genomics/adni100kFiltered.fam ] \n",
      "0 individuals with nonmissing phenotypes\n",
      "Assuming a disease phenotype (1=unaff, 2=aff, 0=miss)\n",
      "Missing phenotype value is also -9\n",
      "0 cases, 0 controls and 756 missing\n",
      "448 males, 308 females, and 0 of unspecified sex\n",
      "Reading genotype bitfile from [ Simple_Genomics/adni100kFiltered.bed ] \n",
      "Detected that binary PED file is v1.00 SNP-major mode\n",
      "Before frequency and genotyping pruning, there are 1098 SNPs\n",
      "756 founders and 0 non-founders found\n",
      "Total genotyping rate in remaining individuals is 0.998317\n",
      "0 SNPs failed missingness test ( GENO > 1 )\n",
      "0 SNPs failed frequency test ( MAF < 0 )\n",
      "After frequency and genotyping pruning, there are 1098 SNPs\n",
      "After filtering, 0 cases, 0 controls and 756 missing\n",
      "After filtering, 448 males, 308 females, and 0 of unspecified sex\n",
      "Writing LD statistics to [ Simple_Genomics/out.ld ] \n",
      "\n",
      "Analysis finished: Sun Dec 11 12:23:54 2016\n",
      "\n"
     ]
    }
   ],
   "source": [
    "%%bash\n",
    "geno=\"Simple_Genomics/adni100kFiltered\"\n",
    "plink=\"Simple_Genomics/plink-1.07-mac-intel/plink\"\n",
    "\n",
    "# Linkage disequilibrium\n",
    "$plink --bfile $geno --out \"Simple_Genomics/out\" --chr 22 --r2 --matrix"
   ]
  },
  {
   "cell_type": "code",
   "execution_count": null,
   "metadata": {
    "collapsed": false
   },
   "outputs": [],
   "source": [
    "ld_df=pd.read_csv('Simple_Genomics/out.ld',sep='\\s+',header=None)\n",
    "plt.figure(figsize=(10, 10))\n",
    "plt.imshow(ld_df,cmap=plt.cm.jet)\n",
    "plt.colorbar()\n",
    "plt.show()\n"
   ]
  },
  {
   "cell_type": "markdown",
   "metadata": {},
   "source": [
    "## Genome-wide association\n",
    "### Plink\n",
    "\n",
    "Genome-wide ssociation is used to identify loci involved with complex traits.\n",
    "\n",
    "We can test millions of genetic markers for association with a trait in a sample of unrelated subjects."
   ]
  },
  {
   "cell_type": "code",
   "execution_count": 10,
   "metadata": {
    "collapsed": false
   },
   "outputs": [
    {
     "name": "stdout",
     "output_type": "stream",
     "text": [
      "\n"
     ]
    }
   ],
   "source": [
    "%%bash\n",
    "echo $a"
   ]
  },
  {
   "cell_type": "markdown",
   "metadata": {},
   "source": [
    "## Genomic complex-trait analysis\n",
    "### Genomic REML"
   ]
  },
  {
   "cell_type": "markdown",
   "metadata": {},
   "source": [
    "### Linkage-disequilibrium score"
   ]
  },
  {
   "cell_type": "code",
   "execution_count": null,
   "metadata": {
    "collapsed": true
   },
   "outputs": [],
   "source": []
  }
 ],
 "metadata": {
  "anaconda-cloud": {},
  "kernelspec": {
   "display_name": "Python [Root]",
   "language": "python",
   "name": "Python [Root]"
  },
  "language_info": {
   "codemirror_mode": {
    "name": "ipython",
    "version": 2
   },
   "file_extension": ".py",
   "mimetype": "text/x-python",
   "name": "python",
   "nbconvert_exporter": "python",
   "pygments_lexer": "ipython2",
   "version": "2.7.12"
  }
 },
 "nbformat": 4,
 "nbformat_minor": 0
}
