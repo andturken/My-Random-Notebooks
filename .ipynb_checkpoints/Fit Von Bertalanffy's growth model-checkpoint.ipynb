{
 "cells": [
  {
   "cell_type": "code",
   "execution_count": 93,
   "metadata": {
    "collapsed": false
   },
   "outputs": [
    {
     "name": "stdout",
     "output_type": "stream",
     "text": [
      "Populating the interactive namespace from numpy and matplotlib\n"
     ]
    }
   ],
   "source": [
    "%pylab inline\n",
    "\n",
    "import numpy as np\n",
    "from scipy.optimize import curve_fit\n",
    "import scipy.linalg as lin\n",
    "import scipy.stats as sst\n",
    "#import pylab\n",
    "from StringIO import StringIO"
   ]
  },
  {
   "cell_type": "code",
   "execution_count": 116,
   "metadata": {
    "collapsed": false
   },
   "outputs": [],
   "source": [
    "age=np.array([0,0,16,16,16,2,2,32,32,4,4,4,4,8,8,8,8]);\n",
    "\n",
    "crs = open(\"all.ico6.areaMap.txt\", \"r\");\n",
    "d1=crs.read();\n",
    "data=np.genfromtxt(StringIO(d1),delimiter=\"\\t\",skip_header=1);"
   ]
  },
  {
   "cell_type": "code",
   "execution_count": 117,
   "metadata": {
    "collapsed": false
   },
   "outputs": [],
   "source": [
    "age=np.concatenate([age[:7],age[9:]])\n",
    "data=np.concatenate([data[:,:7],data[:,9:]],axis=1)"
   ]
  },
  {
   "cell_type": "markdown",
   "metadata": {},
   "source": [
    "# Fit an exponential, asymptotic growth model to each vertex"
   ]
  },
  {
   "cell_type": "code",
   "execution_count": 121,
   "metadata": {
    "collapsed": true
   },
   "outputs": [],
   "source": [
    "def func(x, p1,p2):\n",
    "  return p1*(1-np.exp(-x/p2))"
   ]
  },
  {
   "cell_type": "code",
   "execution_count": 122,
   "metadata": {
    "collapsed": false
   },
   "outputs": [
    {
     "data": {
      "text/plain": [
       "[<matplotlib.lines.Line2D at 0x117de1cd0>]"
      ]
     },
     "execution_count": 122,
     "metadata": {},
     "output_type": "execute_result"
    },
    {
     "data": {
      "image/png": "[encoded data removed]",
      "text/plain": [
       "<matplotlib.figure.Figure at 0x11045d250>"
      ]
     },
     "metadata": {},
     "output_type": "display_data"
    }
   ],
   "source": [
    "i=7;\n",
    "xdata=np.array(age);\n",
    "ydata=np.array(data[i,:])\n",
    "popt, pcov = curve_fit(func, xdata, ydata,p0=(1.0,0.2))\n",
    "pylab.plot(xdata,ydata,'*')\n",
    "curvex=np.linspace(0,32,100)\n",
    "curvey=func(curvex,popt[0],popt[1])\n",
    "plt.plot(xdata,ydata,'*')\n",
    "plt.plot(curvex,curvey,'r')"
   ]
  },
  {
   "cell_type": "code",
   "execution_count": 124,
   "metadata": {
    "collapsed": false
   },
   "outputs": [],
   "source": [
    "fo=open(\"areagrowth.tau.txt\",\"w\");\n",
    "fo.write(\"%i\\n\"%len(data));\n",
    "xdata=np.array(age);\n",
    "np.seterr(all='ignore')\n",
    "for i in range(0,len(data)):\n",
    "    ydata=np.array(data[i,:])\n",
    "    popt, pcov = curve_fit(func, xdata, ydata,p0=(1.0,0.2))\n",
    "    fo.write(\"%f\\n\" % popt[1]);\n",
    "fo.close();"
   ]
  },
  {
   "cell_type": "code",
   "execution_count": 126,
   "metadata": {
    "collapsed": true
   },
   "outputs": [],
   "source": [
    "fo=open(\"areagrowth.asymp.txt\",\"w\");\n",
    "fo.write(\"%i\\n\"%len(data));\n",
    "xdata=np.array(age);\n",
    "np.seterr(all='ignore')\n",
    "for i in range(0,len(data)):\n",
    "    ydata=np.array(data[i,:])\n",
    "    popt, pcov = curve_fit(func, xdata, ydata,p0=(1.0,0.2))\n",
    "    fo.write(\"%f\\n\" % popt[0]);\n",
    "fo.close();"
   ]
  },
  {
   "cell_type": "markdown",
   "metadata": {},
   "source": [
    "# Compute area ratio change from P0 to P16"
   ]
  },
  {
   "cell_type": "code",
   "execution_count": 125,
   "metadata": {
    "collapsed": true
   },
   "outputs": [],
   "source": [
    "fo=open(\"arearatio.32over0.txt\",\"w\");\n",
    "fo.write(\"%i\\n\"%len(data));\n",
    "np.seterr(all='ignore')\n",
    "for i in range(0,len(data)):\n",
    "    fo.write(\"%f\\n\" % ((data[i,2]+data[i,3])/(data[i,0]+data[i,1])));\n",
    "fo.close();"
   ]
  },
  {
   "cell_type": "code",
   "execution_count": null,
   "metadata": {
    "collapsed": true
   },
   "outputs": [],
   "source": []
  }
 ],
 "metadata": {
  "kernelspec": {
   "display_name": "Python 2",
   "language": "python",
   "name": "python2"
  },
  "language_info": {
   "codemirror_mode": {
    "name": "ipython",
    "version": 2
   },
   "file_extension": ".py",
   "mimetype": "text/x-python",
   "name": "python",
   "nbconvert_exporter": "python",
   "pygments_lexer": "ipython2",
   "version": "2.7.3"
  }
 },
 "nbformat": 4,
 "nbformat_minor": 0
}
