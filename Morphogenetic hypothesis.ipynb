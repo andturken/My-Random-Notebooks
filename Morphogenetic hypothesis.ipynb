{
 "metadata": {
  "name": "",
  "signature": "sha256:5b8b84f7ededcd68a5e0e5df89196fc8ac30eedb335a267fc71d308ae73d338a"
 },
 "nbformat": 3,
 "nbformat_minor": 0,
 "worksheets": [
  {
   "cells": [
    {
     "cell_type": "markdown",
     "metadata": {},
     "source": [
      "# Influence of mechanical morphogenetic factors on the development and organisation of the neocortex\n",
      "*Roberto Toro, Septembre 2014*"
     ]
    },
    {
     "cell_type": "markdown",
     "metadata": {},
     "source": [
      "1. neocortical organisation\n",
      " 1. description: cytoarchitectonic, functional, connective\n",
      " 2. development\n",
      " 3. evolution\n",
      "2. theories\n",
      " 1. genetic and activity-dependent mechanisms: protomap / protocortex\n",
      " 2. krubitzer & kaas\n",
      "3. relationship between neocortical organisation and anatomy: brain folding\n",
      " 1. early mechanical theories, difficulties\n",
      " 3. genetical theories, difficulties\n",
      "   1. mechanical morphogenesis (folding) in nature\n",
      "4. influence of mechanical morphogenetic factors on the development and organisation of the neocortex\n",
      " 1. new mechanical theories of brain folding\n",
      " 2. possible effects of mechanics on neocortical organisation\n",
      " 3. effect of mechanical stress on gene expression, mitosis, stem cell fate, apoptosis\n",
      " 4. effect of macroscopic anatomy on global neocortical organisation: molecule diffusion, functional assemblies, hodogenesis, regionalisation of function, localisation of function\n",
      " 5. formulation of a theory on the influence of mechanical morphogenetic factors on the development and organisation of the neocortex (and the nervous system)\n",
      " 6. predictions: mechanical changes should induce organisational changes\n",
      " \n",
      "**Additional issues**\n",
      "* genetic evolution\n",
      "* perturbation: genetic perturbations (ko, ki, cko), activity peturbations (sensory deprivation, enucleation, re-wiring), mechanical morphogenetic perturbations: artificial fold. Find article on the induction of an ectopic eye by flexure\n",
      "* for some structures, genes may act to trigger mechanical morphogenesis\n"
     ]
    },
    {
     "cell_type": "markdown",
     "metadata": {},
     "source": [
      "# Abstract\n",
      "\n",
      "The development and evolution of complex neocortical organisations is thought to result from the interaction of genetic and activity-dependent mechanisms. Here we propose that a third mechanism \u2013 mechanical morphogenesis \u2013 may also play an important role. We review recent theoretical and experimental results in non-linear physics showing how homogeneous growth can produce a rich variety of forms, in particular neocortical folding. The mechanical instabilities that produce these forms also induce heterogeneous patterns of stress at the scale of the organ. We review the evidence showing how these stresses can influence cell proliferation, migration and apoptosis, cell differentiation and shape, migration and axonal guidance, thus being able to determine regional neocortical identity and connectivity."
     ]
    },
    {
     "cell_type": "markdown",
     "metadata": {},
     "source": [
      "# Introduction\n",
      "The neocortex, the outter-most part of the cerebrum, is the most distinctive structure of the mammalian nervous system. In the radial direction it is composed of 6 main layers containing neuronal cell bodies, the grey matter. The axons of these neurones compose most of the cerebral white matter. Together, the neocortical grey matter and the white matter make ~90% of the human brain. The thickness of the neocortex varies little among species. For example, the neocortex is 1.5 mm thick on average in mice, 2.5 mm in humans. By contrast, there are extreme differences in cortical surface area among mammals, a 1000-fold differencen between mice and men. The expansion of the neocortex correlates with an increased regionalisation. Based on cytoarchitecture, chemoarchitecture and connectivity patterns, it is possible to distinguish ~20 cortical areas in mice, ~50 in macaques, and probably more than 100 in humans. This increase in neocortical organisation complexity is the most likely biological cause of the increased behavioural complexity, which leads in humans to high cognitive functions such as language, creativity and consciousness."
     ]
    },
    {
     "cell_type": "markdown",
     "metadata": {},
     "source": [
      "(mech. unknown, but G&A). The basic structure of the mammalian nervous system has its origins in the early segmentation of the neural tube into neuromeres [Puelles, YYYY]. The neocortex is essentially a homogeneous structure, an isocortex, it develops from the single rostral-most neuromere. It was indeed only through a detailed analysis of its cytoarchitectonic composition and connectivity that neuroanatomists were able to distinguish the different areas of the mammalian neocortex.\n",
      "\n",
      "It was thought initially that the formation of neocortical areas (\"arealisation\") was due to peripheral activity driven through thalamo-cortical afferents (TCA). Many experiments revealed indeed a strinking plasticity of cortical identity. For example: rewiring, sensory deprivation, enucleation.\n",
      "\n",
      "During the 90s appeared the first clear evidences of a genetic determination of neocortical arealisation. Patterning centres. Morphogenes and signaling molecules.\n",
      "\n",
      "Today, intrinsic genetic and extrinsic activity-dependent mechanisms are thought to be together the main causes of arealisation. During development, morphogens and signaling molecules from a reduced number of patterning centres establish expression patterns of transcription factors, which together with activity driven by TCA establish and maintain areal identity [O'Leary 2009]. From the perspective of evolution, however, genetic/molecular factors are pre-eminent. They can establish areal identity directly, or indirectly, by first establishing the connections that will later enable activity-dependent mechanisms to operate. In this sense we can say that the emergence of a new cortical area is genetically encoded."
     ]
    },
    {
     "cell_type": "markdown",
     "metadata": {},
     "source": [
      "Brain folding provides an illustration of how this mechanism could operate. Most mammals with large brains have folded neocortices. The pattern of these folds is very characteristic of the different species. Additionally, since the first cytoarchitectonic maps of Brodmann (1909), neuroanatomists have observed a remarkable correspondence between specific brain folds and cytoarchitectonic areas. For example, the central sulcus in many primates separates rather precisely the motor cortex from the somatosensory cortex. Early theories about the origin of brain folding proposed that its development was due to mechanical constraints; that the neocortex crumpled because of the limited intracranial space (LeGros-Clark, 19YY), or because of a differential growth of superior and inferior cortical layers (Richmann et al 197Y). But these purely mechanical theories seemed unable to explain how species-specific folding patterns could exist, or how these mechanically produced folds could develop such a strong relationship with cytoarchitecture. Today, species-specific folding patterns and folding/architecture correspondances are explained through genetic mechanisms. Neocortical regions could develop because of differential gene expression in neural stem cells in the ventricular zone (Rakic 1988, 2009), or region-specific responses to molecular signals (Rash et al 2013, Stahl et al 2013, Nonaka-Kinashita et al 2013). Among these region-specific responses could be the induction of differential tissue growth, which would then produce a gyrus by bulging (Smart and McSherry 1989, Welker 1990), or the development of specific connections that would then bend the cortex in an active process to minimise wiring based on axonal-tension (Van Essen, 1997). Whereas the mechanical stress patterns observed in real gyrencephalic brains seem to disprove the axonal-tension hypothesis (Xu et al YYYY), pro-gyral regions in the ferret brain have been observed to present an increased rate of neurogenesis (Reillo et al 2011)."
     ]
    },
    {
     "cell_type": "markdown",
     "metadata": {},
     "source": [
      "These explanations, however, do not take into account the physics of growth and the geometric and mechanical properties of the developing brain. Recent results from non-linear physics suggest indeed that mechanical instabilities induced by homogeneous growth can produce heterogeneous patterns of stress leading to complex morphologies. In particular, both theory and experimental evidence show that homogeneous growth in physical systems similar to the developing brain produce folding patterns strikingly reminiscent of that of real brains. Given enough growth, the expansion of the neocortex over the elastic subcortical substrate should produce an exponential increase in mechanical energy that would be relaxed by folding. In addition to the macroscopic change in geometry, these folds should induce a macroscopic, heterogeneous pattern of mechanical stress throught the neocortex. There is vast evidence today, in vitro and in vivo, of the effect of mechanical stress on gene expression, cell division, cell differentiation and apoptosis. In this review we will first introduce the physics of mechanical morphogenesis and then the different ways in which mechanical morphogenesis could influence neocortical organisation and regionalisation. We propose that, in addition to genetic and activity-dependent processes, the mechanical morphogenetic processes triggered by growth can have a causal role on the development and evolution of species-specific folding patterns and neocortical organisation."
     ]
    },
    {
     "cell_type": "markdown",
     "metadata": {},
     "source": [
      "#The physics of mechanical morphogenesis\n",
      "\n",
      "##Elasticity\n",
      "Brain tissue is composed in a large part of water, it is mostly incompressible (its volume is conserved despite deformation), elastic (after deformation it recovers its original shape), and to some extent plastic (strong or prolongued deformation produce a permanent change in shape). The elastic forces produced by deformation can be calculated relative to a \"rest\" configuration, where the tissue is free of mechanical stress (see Fig. X). We can imagine that we subdivide the tissue at rest into small volume elements, and then that we look at how each of them is transformed in the deformed configuration. Each volume element can be described by a matrix of 3 vectors in the tissue at rest, $\\mathbf{R}=\\left\\{\\mathbf{r0},\\mathbf{r1},\\mathbf{r2}\\right\\}$, and the corresponding matrix of 3 vectors in the deformed tissue, $\\mathbf{D}=\\left\\{\\mathbf{d1},\\mathbf{d2},\\mathbf{d3}\\right\\}$. It is possible now, for each volument element, to compute the transformation matrix $\\mathbf{F}$ that changes $\\mathbf{R}$ into $\\mathbf{D}$: if $\\mathbf{D}=\\mathbf{F} \\cdot \\mathbf{R}$, then $\\mathbf{F}=\\mathbf{D} \\cdot \\mathbf{R}^{-1}$. The transformation matrix $\\mathbf{F}$ is the \"deformation tensor\".\n",
      "\n",
      "In order to compute the mechanical forces produced by deformation, we need a \"constitutive model\" that will describe how deformation and force are related. The simplest constitutive model is Hook's law, which states that force is proportional to deformation. In the case of a linear spring, for example, elastic force would be just proportional to elongation. The proportionality constant is known as Young's modulus ($E$) whose unit of measurement is the Pascal (Pa). Brain tissue is very elastic, similar to jelly, $E$~1.5 kPa. By contrast, Young's modulus for rubber is $E$~10-100 kPa, and for metal $E$>10 GPa.\n",
      "\n",
      "In two or three dimensions, a new parameter is required to describe how much pulling in one direction will produce stretch in the orthogonal directions: Poisson's ratio ($\\nu$). For example, stretching a square of rubber to twice its length, will make it shrink to half its width: a Poisson's ratio of 0.5. By contrast, compressing a piece of cork in one direction produces almost no change in the others: Poisson's ratio of cork is close to 0. A linear constitutive model will include these 2 constants $E$ and $\\nu$. It is sometimes convenient to combine Young's modulus and Poisson's ratio into a bulk modulus $K$ and a shear modulus $\\mu$. The bulk modulus represents the amount of mechanical stress produced by changes in volume, whereas the shear modulus represents the amount of stress produced by changes that do not affect the element's volume.\n",
      "\n",
      "Biological tissues can be described using a linear constitutive model only for very small deformations. Most frequently, a \"hyperelastic\" constitutive model is required, where the relationship between deformation and force is non-linear. A widely used hyperelastic constitutive model is the Neo-Hookean model introduced by Rivlin (YYYY). The model is defined in terms of the elastic energy W that the deformation described by the tensor $\\mathbf{F}$ will produce in a material of shear modulus $\\mu$ and bulk modulus $K$:\n",
      "\n",
      "$W=\\mu (Tr(\\mathbf{F} \\mathbf{F}^T) J^{-2/3}-3) + K (J-log(J)-1)$.\n",
      "\n",
      "In this equation $J$ measures the change in volume produced by the deformation $\\mathbf{F}$ (mathematically, $J=det(\\mathbf{F})$). If a volume element is shrunk by $\\mathbf{F}$ then $0 \\lt J \\lt 1$, if it is expanded, then $J \\gt 1$, and if volume is conserved as in the case of incompresible materials, then $J=1$. The left-hand side of the equation has 2 components. The first one, multiplied by $\\mu$, increases the energy $W$ as the shear components of $\\mathbf{F}$ increase (the off-diagonal elements of the matrix $\\mathbf{F}$). The second part, multiplied by $K$, increases $W$ as $\\mathbf{F}$ produces volume changes. In this second part, if there is no change in volume then $J=1$, $log(J)=0$, and there is no change in energy due to bulk volume changes. If $\\mathbf{F}$ shrinks the volume element so that $J$ is close to 0, then $-log(J)$ will be very large, increasing the total elastic energy $W$. $W$ will also increase if $J \\lt 1$, but the increase will not be proportional to the deformation because of the subtraction of $log(J)$: in the Neo-Hookean model disproportionately larger forces are required to keep increasing the deformation."
     ]
    },
    {
     "cell_type": "markdown",
     "metadata": {},
     "source": [
      "##Growth\n",
      "Growth introduces a different kind of deformation. In an important article, Rodriguez et al (1994) conceptualised the deformation induced by growth as the composition of a term related to elasticity and another related to growth itself:\n",
      "\n",
      "$\\mathbf{F_T}=\\mathbf{F} \\cdot \\mathbf{G}$.\n",
      "\n",
      "Applying the deformation tensor $\\mathbf{F_T}$ to a volume element is then equivalent to make it grow first, and introduce the deformation due to elasticity next. Only the elastic part of the deformation, however, changes the elastic energy $W$.\n",
      "\n",
      "Consider for example a ring of elastic material that grows only in the angular direction. If we cut the ring before it grows, as shown in Fig. XXX, the borders could be made to match without introducing any force. After growing, however, the length of the ring will have increased so that joining the borders will introduce a residual stress all over it. After joining the borders, the ring will undergo compression in the angular direction, and depending on its Poisson's ratio, it will also undergo a force in the radial direction. Growth can be thought as a deformation of the resting configuration of the volume elements of an object, independently one from another. The requirement of continuity of the object will then introduce elastic forces, and possibly a field of residual stress across the object.\n",
      "\n",
      "The morphogenetic effect of growth within the framework proposed by Rodriguez et al. (1994) has been addressed in several theoretical studies and confirmed experimentally. The elastic instabilities induced by growth can explain aspects of the shape of flowers (Ben-Amar et al 2012), the formation of villi and crypts in intestinal epithelium (Hannezo et al 2011), growing tumors (Ciarletta 2013) or mucosa wall patterning (Xie et al 2014) among many others. In particular, the effect of growth and elasticity in systems resembling the cerebral cortex has been observed to introduce different buckling instabilities which are able to produce folds of a geometry and a scale similar to those of real brains."
     ]
    },
    {
     "cell_type": "markdown",
     "metadata": {},
     "source": [
      "##Buckling instabilities and neocortical folding\n",
      "\n",
      "During the inside-out migration of neurones from the ventricular zone (Rakic 1988, 2009) and the intermediate zone (Reillo et al 2011) the cerebral cortex of many gyrencephalic mammals is still smooth and mostly undifferentiated (Welker 1991). Once cell migration is finished, the neocortex starts a period of fast expansion, due to the increase of intracortical connectivity, dendrites and glia.\n",
      "\n",
      "At this early stage, the mechanical system composed by the neocortex and subcortical structures (including radial glia and the developing white matter) can be viewed as a system of two elastic substrates, one of which undergoes much more growth than the other. The deformation of an elastic layer whose surface area is much larger than its thickness (a \"thin plate\" in mechanics) is often described using F\u00f6ppl-von K\u00e1rm\u00e1n equations. Although there is no general solution for these equations, they can be solved for particular cases or approximated through numerical simulation.\n",
      "\n",
      "When submitted to load, shrinkage or growth, F\u00f6ppl-von K\u00e1rm\u00e1n equations predict different types of buckling instabilities. For small deformations, stretching is energetically less costly than bending and the system grows without folding (this is likely the reason why small brains are lissencephalic). As deformation increases, however, there is a critical threshold after which bending becomes less costly than further stretching and the system buckles. Among these buckling instabilities, wrinkles (Bowden et al 1998, Cerda and Mahadevan 2003, Davidovitch et al 2011), folds (Pocivavsek et al 2008) and creases (Hohfeld and Mahadevan 2011, Tallinen et al 2014) can produce patterns strikingly similar to those observed in gyrencephalic brains. Wrinkles develop when a stiff, thin, elastic layer, a \"skin\", grows over a softer one. Wrinkles are sinusoidal undulations and are the first instabilities observed after buckling. They can develop into folds, where deformations are more localised, with flat regions coexisting with valleys or depressions of the stiff layer. Creases (also called sulci) are similar to folds, but they do not require a difference in stiffness between skin and substrate to develop. Whereas the depth of wrinkles and folds is smooth, similar to the first stages of gyrogenesis, the depth of creases is cusped, similar to the shape of adult brain sulci.\n",
      "\n",
      "The first model of brain folding based on the emergence of a buckling instability was that of Richman et al (197Y). This was a model of wrinkling where smooth, sinusoidal, folds developed because of a difference in growth and stiffness between the superior and inferior layers of the neocortex. The model proposed a mechanism for producing folding through exclusively neocortical means (i.e., without requiriyng a cranial constraint). The model left unanswered, however, the questions of the constancy of species-specific folding patterns and the relationship between folding and neocortical organisation (cytoarchitecture, connectivity, function).\n",
      "\n",
      "These questions were addressed by the model of Toro and Burnod (2005). In this 2D model wrinkling was produced by the growth of the neocortex layer over an elastic and plastic substrate representing white matter and radial glia. In addition to elasticity, the tissues were also considered to be plastic: the heterogeneous mechanical stress induced by folding could induce local cortical growth and reabsorption, or the elongation and contraction of the white matter. Toro and Burnod (2005) observed that the formation and orientation of folds (wrinkles) could be modulated by cytoarchitectonic differences if they were already present, but also by the initial (unfolded) geometry of the cortical layer. This last mechanism could provide a purely geometric basis for the development and evolution of species-specific folding patterns.\n",
      "\n",
      "The models by Richmann et al (197Y) and Toro and Burnod (2005) were purely theoretical, but more recent models based on mechanical parametres similar to those of real brains show that the morphology and stress patterns produced by buckling agree with those observed experimentally (Bayly et al 2013, Manyuhina et al 2014, Budday et al 2014a,b, Tallinen et al 2014).\n",
      "\n",
      "These models suggest that mechanical instabilities induced by homogenous growth are sufficient to produce folds, without requiring specific, local, gyrogenetic mechanisms such as a genetically determined, regionally higher rates of growth in pro-gyral regions (Welker 199Y, Lef\u00e8vre and Mangin 20YY, Reillo et al 2011), specific cortico-cortical connectivity between pro-gyral walls (Van Essen 1997, Hilgetag and Barbas 20YY), or a specific attachment of pro-sulcal regions (Smart and McSherry 198Y, R\u00e9gis et al 2005).\n",
      "\n",
      "Additionally, these models suggest that the pattern of folding could be determined by the initial geometry of the neocortex. The orientation of folds in many species have been observed to correspond with the lines of principal curvature of the surface (Todd 198Y), which in many cases correspond with directions either concentric or orthogonal to the system formed by the corpus callosum and the Sylvian fissure (Toro and Burnod 2003, R\u00e9gis et al 2005). In the same way that the geometry of a dome rigidifies its structure, the initial geometry of the neocortex makes some regions easier to fold than anothers, facilitating the development of folds in some specific regions.\n",
      "\n",
      "Previous theories explained the relationship between neocortical organisation and brain folding by encoding both of them in the genome. But if folding and folding patterns result from mechanical growth-induced buckling instabilities, we have to consider the possibility that, at least in part, brain folding may have a causal effect on neocortical organisation. "
     ]
    },
    {
     "cell_type": "markdown",
     "metadata": {},
     "source": [
      "1. Bayly PV, Okamoto RJ, Xu G, Shi Y, Taber LA (2013) A cortical folding model incorporating stress-dependent growth explains gyral wavelengths and stress patterns in the developing brain. Phys Biol doi:10.1088/1478-3975/10/1/016005\n",
      "2. Manyuhina OV, Mayett D, Schwarz JM (2014) Elastic instabilities in a layered cortex: A revised axonal tension model for cortex folding. ArXiv:1407.3778v1\n",
      "3. Budday (2014)\n",
      "4. Budday (2014)\n",
      "5. Tallinen (2014)"
     ]
    },
    {
     "cell_type": "markdown",
     "metadata": {},
     "source": [
      "# Effect of mechanical forces on neocortical development\n",
      "The macroscopic, heterogeneous, residual stress induced by brain folding could regionally modulate cell proliferation, cell fate and cell shape, influence axonal guidance and even synaptic activity, thus affecting the organisation of the neocortex. Localised stress is known to modulate tissue volume, with tension facilitating tissue growth and compression promoting reabsorption (Fung, 1993; Rodriguez et al., 1994). Compressing a tumour spheroid formed from carcinoma cells decreases cell proliferation in the regions of high mechanical stress, and cells could even undergo apoptosis if stress is sufficiently high (Cheng et al 2009, Montel et al 2012). In neural stem cells culture, the rate of cell division reaches a peak at 1-4 kPa, but decreases in stiffer or softer substrates. In gels softer than ~10 Pa, the spreading, self-renewal and differentiation of neural stem cells is almost completely inhibited (Saha et al 2008). Mechanical stress can affect progenitor cells directly, but also indirectly, by affecting the structure of the extra-cellular matrix. Mechanical stress could result in differential local concentrations of extra-cellular matrix components, which in turn could lead to differences in cell signalling and adhesion (Lutolf et al 2009).\n",
      "\n",
      "In addition to cell proliferation, cell fate and differentiation can be regulated by mechanical forces. Engler et al (2006) showed that naive mesenchymal stem cells cultured on a substrate mimicking the elasticity of brain, muscle or bone, differentiated respectively into branched cells similar to primary neurons, spindle-shaped cells similar to myoblasts or polygonal cells similar to osteoblasts. Interestingly, whereas reprogramming these lineages by the addition of soluble induction factors was possible only during the initial week in culture, changes in cell fate through manipulation of matrix elasticity were possible even after several weeks. In neural stem cells culture, Saha et al (2008) showed that soft gels (~100-500 Pa) produced mostly neurones, whereas increasingly harder gels (up to 1-10 kPa) produced progressively more glial cells. In vivo, neocortical neurons grow along glial cells, which may be due in part to the fact that glia are significantly softer than their neighbouring neurons (Lu et al 2006).\n",
      "\n",
      "The shape of differentiated cells can also respond to the mechanical properties of their environment. Neurones cultured on soft substrates (50-300 Pa) develop up to 3 times more branching than those cultured on stiffer gels (XX-YY Pa, Flanagan et al 2002). Neurones also seem to require a certain amount of mechanical tension to mature. In vitro, the axonal branches which attach more strongly to the substrate are conserved and stabilised, whereas the remaining branches are retracted or eliminated (Anava et al 2009). Pulling axons at different speeds not only increases their lenght accordingly, but also their calibre (Bray 1984). That is, nerve cell respond to tension applied along their axons by building more axon, increasing the length and number of its microtubules, neurofilaments and membrane components.\n",
      "\n",
      "Buckling models of neocortical folding predict gradients of mechanical stress between gyri and sulci spanning the thichness of the cortex and close white matter. These gradients could participate to the establishment of the differences in cell shape and layering observed in vertebrates (Welker 199Y). Cells migration and axonal pathfinding respond to mechanical clues (Saez et al 2007), and could be guided by the mechanical stiffness gradients produced by growth-driven buckling instabilities. Finally, tension in neurons has been observed to produce an active accumulation of the synaptic vesicles involved in neurotransmitter releasing to postsynaptic cells (Ahmed et al 2012), which leads to a possible modulation of the synaptic activity by the mechanical properties of the surrounding tissue."
     ]
    },
    {
     "cell_type": "markdown",
     "metadata": {},
     "source": [
      "### [Snipet] Importance of brain folding\n",
      "The analysis of cortical folding is an important clinical and neuroscientific research tool. From a clinical perspective, dramatic changes in cortical folding such as polymicrogyria and lissencephaly are characteristic of the neurodevelopmental disorders such as those produced by cytomegalovirus infection or foetal alcohol syndrome, but more subtle abnormalities in the degree or pattern of cortical folding have been reported for various neurodevelopmental disorders, such as autism, schizophrenia, epilepsy or Williams syndrome  (Bonnici et al., 2007; Van Essen et al., 2006; Hardan et al., 2004; Nesv\u00e5g et al., 2014; Nordahl et al., 2007; Palaniyappan et al., 2011; Roper et al., 2011; Schmitt et al., 2002; Voets et al., 2011; Zhang et al., 2010). From a neuroscientific perspective, brain folding has been used for more than a century to try to understand brain development, phylogenetic diversity and evolution (Zilles et al., 2013). Multiple studies have revealed a close relationship between cortical folding and the cytoarchitectonic, connective and functional organisation of the cerebral cortex, suggesting that common biological processes might shape them. The classic cytoarchitectonic maps of Brodmann provide various illustrations of correspondence between cortical folds and brain organisation, such as the central sulcus which divides the primary motor cortex from the somatosensory cortex, or the calcarine sulcus which divides the superior and inferior visual hemifields of the primary visual cortex in the occipital lobe (Brodmann, 1909; Brodmann and Gary, 2006). More recently, using surface-based reconstructions and quantitative cytoarchitectonic methods, Fischl et al. (Fischl, 2013; Fischl et al., 2007) confirmed the strong relationship between sulco-gyral anatomy and cytoarchitectonic organisation."
     ]
    },
    {
     "cell_type": "markdown",
     "metadata": {},
     "source": [
      "### [Snipet] The causes of brain folding are poorly understood\n",
      "In stark contrast with their importance and the long standing scientific interest in folding anatomy, we understand little about the mechanisms that produce it, its conserved phylogenetically patterns, its inter-individual variability, or its correspondence with neocortical organisation."
     ]
    },
    {
     "cell_type": "markdown",
     "metadata": {},
     "source": [
      "### [Snipet] Neocortical development and folding\n",
      "Most neurones in the mammalian cerebral cortex originate from progenitor cells in the ventricular, inner and outer subventricular zones. In mammals with folded brains, including primates and carnivores such as the ferret, these germinal layers house Intermediate Radial Glia Cells (IRGCs), a unique population of progenitor cells recently identified by members of our consortium and others (Fietz et al., 2010; Hansen et al., 2010; Reillo et al., 2011). Cortical folding occurs during a phase of rapid expansion of cortical surface area, which involves the generation of massive numbers of neurones. IRGCs play a fundamental role in this process, and because IRGCs are present almost exclusively in animals with folded brains, their proliferation has been proposed as a major evolutionary adaptation for the expansion and folding of the mammalian cerebral cortex. In our consortium, the group of V. Borrell has demonstrated that in ferrets the density of dividing IRGCs is particularly high in cortical regions that will later become gyri, and low in those that will become sulci (Borrell and G\u00f6tz, 2014; Reillo et al., 2011). Fig. 1, for example, shows that the density of dividing progenitors is higher at P3 (3rd post-natal day) under the region that will later become the splenial gyrus. But whereas our understanding of the mechanisms leading to the expansion of the cerebral cortex have progressed enormously during the last few years (Borrell and G\u00f6tz, 2014; Nonaka-Kinoshita et al., 2013; Stahl et al., 2013; Sun and Hevner, 2014), we still do not know how the regional heterogeneity in IRGC proliferation is achieved."
     ]
    },
    {
     "cell_type": "markdown",
     "metadata": {},
     "source": [
      "### [Snipet] Genetic theories\n",
      "One possibility is that a genetically encoded pattern of molecular signals would control the rate of cell division of IRGCs, eventually leading to brain folding. This hypothesis can be seen as an extension of the cortical \u201cprotomap\u201d proposed by P. Rakic (1988), which suggested that the identity of neurones in different regions of the cerebral cortex was already genetically encoded in the progenitor cells at the ventricular zone, and then translated into to the cortex by neurones migrating along radial glial cells. An example in which this type of molecular patterning could lead to cortical folding was proposed independently in the mathematical models of D. Striegel and M. Hurdal (2009) and J. Lef\u00e8vre and J-F. Mangin (2010) from our consortium (Fig. 2). Both works suggested that these early molecular signals interact to produce cortical folding in a reaction-diffusion system, similar to the one proposed in the classical work of A. Turing (1952). In those models, the rate of division of the neuronal progenitors is spatially modulated by the non-linear interactions of inhibitory and excitatory morphogenes. Two interconnected processes are thus modelled: the patterning of the neurone-producing layers (ventricular zone, outer subventricular zone) by competing morphogenes, and the local change in cortical geometry produced by the difference in neuronal proliferation. The main focus of Lef\u00e8vre and Mangin's model was the production of folding patterns out of molecular signals. The way in which changes in cell proliferation induced folding was simply modelled as a direct translation of cell density into gyral height. This interaction was later explicitly modelled by Xu et al. (2010). Here, a mechanical model of the cortex, subplate and white matter was stated, and then one or two regions of the cortex were made to grow. The simulations showed the expected formation of an outward fold, and a distribution of stress similar to that observed in real ferret brains (in particular, this work suggested that it is not axonal tension that produce folds as suggested by the influential theory of D. Van Essen (1997), but the neocortex that stretches the axons)."
     ]
    },
    {
     "cell_type": "markdown",
     "metadata": {},
     "source": [
      "These models have in common that folding patterns appear as a reflection of a previous genetically encoded molecular pattern: a molecular pattern producing heterogeneous cell proliferation  (Borrell and G\u00f6tz, 2014; Lef\u00e8vre and Mangin, 2010; R\u00e9gis et al., 2005; Smart and McSherry, 1986a, 1986b; Striegel and Hurdal, 2009; Welker, 1990), or a molecular pattern determining the topology of cortico-cortical connections  (Van Essen, 1997; Geng et al., 2009; Hilgetag and Barbas, 2005)."
     ]
    },
    {
     "cell_type": "markdown",
     "metadata": {},
     "source": [
      "### [Snipet] Contemporary mechanical theories\n",
      "However, none of these ad-hoc, folding-producing mechanisms may be necessary to produce cortical folding. The formation of folds is ubiquitous in nature, and during the last 10 years fold morphogenesis has been a subject of increased interest in non-linear physics. The physics of folding has been described in polymers such as swelling gels (Mora and Boudaoud, 2006), but also in living tissues such as bacterial biofilms (Trejo et al., 2013), villi and crypts formation in intestinal epithelium (Hannezo et al., 2011), growing tumours (Ciarletta, 2013) or mucosa wall patterning (Xie et al., 2014), among many others.  In all these systems, differential growth plays a crucial role, by inducing a residual stress in the tissue. As growth continues, the amount of residual stress increases exponentially, and folds develop as a way of releasing this stress."
     ]
    },
    {
     "cell_type": "markdown",
     "metadata": {},
     "source": [
      "The system formed by the developing brain corresponds exactly to this situation. The mechanism is described in the model of Toro and Burnod  (2005), Toro (2012), or Bayly et al (2013): a homogeneous growth of the cerebral cortex over the elastic substrate of the white matter should produce an exponential increase of mechanical stress in the system. At some point, the stress related to the bending stiffness of the cortex becomes less important than the stress produced by stretching the white matter, and the cortex folds (Fig. 3). The folding of the cortex induces then a heterogeneous pattern of residual stress, with the regions that have become gyri being under tension, and those that have become sulci being under compression."
     ]
    },
    {
     "cell_type": "markdown",
     "metadata": {},
     "source": [
      "### [Snipet] A role of mechanical morphogenetic forces on neocortical development and evolution\n",
      "It would be possible then that folding is a mechanical consequence of brain growth, that this folding induces a heterogeneous, macroscopic pattern of residual stress, and that this stress modulates gene expression, cell proliferation dynamics and cell fate, regulating then the regionalisation of the neocortex. That is, it could be possible that the mechanics of brain folding could have a causal effect on neocortical organisation, a possibility that would profoundly change our conception of the relationship between folding and the intrinsic organisation of the cortex. A testable prediction of this hypothesis is that the early induction of an artificial fold should modify the pattern of neural stem-cell proliferation and differentiation, altering neocortical organisation."
     ]
    },
    {
     "cell_type": "markdown",
     "metadata": {},
     "source": [
      "## [Biblio] Krubitzer's \"In search of a unifying theory of complex brain evolution\" (Ann NY Acad Sci 2009)\n",
      "\n",
      "* cortex: dramatically altered in diff. lineages --> remarkable behav. variations\n",
      "* how this structure changes? a question at multiple levels: macro (social), micro (synapses), dev. constraints\n",
      "* conservation and convergence point towards dev. constraints\n",
      "* humans have evolved mechanisms to loosen these constraints, leading to an exaggerated cortical plasticity\n",
      "\n",
      "**Intro**\n",
      "* how does evolution produce a complex brain? [G&A. Mechanical morphogenesis: a new factor]\n",
      "* what factors contribute to cortical expansion and organisation? [Expansion triggers growth-related mechanical morphogenetic instabilities: buckling, folding, wrinkling, sulcufying]\n",
      "* how did human brains become so exceptionally large, complex and fundamentally different than those of other animals? [no data, can ignore]\n",
      "\n",
      "**What is a cortical field and why study it?**\n",
      "* discussion regarding the relative contribution of G&A mechanisms\n",
      "* preeminence of the neocortex: \n",
      "* neocortex is divided into cortical fields, defined based on connections, response properties, histological appearance, molecular signals\n",
      "* cortical fields are dynamic\n",
      "\n",
      "**How do we study cortical evolution**\n",
      "* always indirectly\n",
      "* comparative and developmental approaches\n",
      "* comparative approach\n",
      "  * compare mammals from different phylogenetic branches\n",
      "  * archtectonic method: cyto- myelo- chemo-architecture, as well as diff. stains to look at layers, neurotransmitters, types of receptors\n",
      "  * electrophysiologycal comparisons: multi-, single-unit\n",
      "  * neuroanatomical tracing (ex: thalamocortical connections)\n",
      "* developmental approach\n",
      " * G&A\n",
      " * G: genes expr. affects organisation, patterns are highly conserved (ex: Hox), mol. gradients guide dev.\n",
      " * A: sensory activity affects, f. ex., ctx field size, map formation, connectivity; enucleation\n",
      "\n",
      "**Levels of organization and complexity**\n",
      "* complex:=composite\n",
      "* Large brain. Necessary (but maybe not sufficient) to generate complexity. More complex social interactions. More cortical fields (mouse:10, macaque:50, human:>100?). Evolved independently in elephants, cetaceans and primates. Different proportion of large/short connections (large: proportionally more short conn).\n",
      "* wiring, brain size, conduction delay optimisation has been selected\n",
      "* number of neurones: linear increase with brain size\n",
      "* humans appear to have more interneurones of more types (DeFelipe 2007, compared with what?)\n",
      "* electrochemical props: highly conserved\n",
      "* strong phylogenetic tendency to increase brain volume, but not always the case [if complexity corr selection, but selection corr time, and time corr. BV, maybe then complexity corr BV]\n",
      "\n",
      "** Convergent evolution and constraints**\n",
      "* evidence for constrain: conservation of bauplan, with strong resiliance to perturbation; homoplasy: cortical expansion, modules (barrels, bands)\n",
      "* major constraints: genes & physics [in fact, activity]\n",
      "* genes: (1) highly conserved devo genes, (2) highly conserved homeobox (bauplan) genes, (3) non-coding [regulatory] elements\n",
      "* physics: shared physical environment: light, sound, temperature, heat, gravity; sensory-driven\n",
      "\n",
      "** Questions posed **\n",
      "* we know bauplan genes\n",
      "* genes and activity-dependent factors\n",
      "* humans have unique especialisations: cortical expansion [no], more cortical fields [data?], unique types of neurones [?], \"loosen developmental constrains\" (plasticity) [no data]\n",
      "\n",
      "** Is there a unifying theory for brain evolution **\n",
      "* Darwin's\n",
      "* importance of considering the larger social system"
     ]
    },
    {
     "cell_type": "markdown",
     "metadata": {},
     "source": [
      "## [Biblio] The economy of brain network organisation, Bullmore&Sporns, (NNR 2012)\n",
      "**Introduction**\n",
      "1. social/natural graphs are btw rnd/regular\n",
      "2. graph topol give info about function, performance (ex: metabol. ntw) and behaviour (ex: social ntw)\n",
      "3. virtual/physical ntws, phys. ntw have additional (physical) constraints\n",
      "4. brain, as phys ntw, are constrained. Trade-off btw efficiency and adaptive value\n",
      "5. brain economy\n",
      "\n",
      "**Brain networks are expensive**\n",
      " 1. brain architecture minimises cost (Cajal)\n",
      " 2. costs: space, time, material\n",
      "\n",
      "* Network wiring costs\n",
      " 1. limited volume [poor argument... body=brain+rest, so body cannot limit BV]\n",
      " 2. for axons: length & diametre\n",
      " 3. allometric laws: WM vs GM (+allom, maybe due to increased ax. diam & N syn/neurone: Changizi \"Principles underlying mammalian neocortical scaling\")\n",
      " 4. proportionally less long connections as BV increases: probability of connectivity deacreases ~1/distance^2. Folding minimizes distance\n",
      " 5. brain do minimise, but that's not all: there's also \"volume exclusion\" (Chen, Hall, Chklovskii \"Wiring optimization\")\n",
      " 6. functional advantage of direct monosyn connections. Models including minimisation of wiring cost and path length (number of jumps) produce realistic ntws (Cuntz&al \"One rule to grow them all\"\n",
      "\n",
      "* Network running costs\n",
      " 1. energy\n",
      " 2. allom: EnergyVsBV [from Fig 1d, it looks like - allom... check Karbowski \"Global and regional brain metabolic scaling\"]\n",
      " 3. most of the cost comes from mantaining membrane V gradient. Sparse coding help reduce metab. cost\n",
      " 4. the relationship btw functional and material connectivity depends on timescale, here: suppose linear relationship\n",
      "\n",
      "**Brain networks are topologically complex**\n",
      "1. connectomes\n",
      "\n",
      "* Brains have a small-world architecture\n",
      " 1. small-world ntw: both high clustering (~regular) & short path-length (rnd), ex: C Elegans\n",
      " 2. MRI, fMRI, EEG, MEG\n",
      "\n",
      "* Segregation and integration\n",
      " 1. segregation~specialisation, integrated~distributed\n",
      " 2. segregation~clustering~functional modularity\n",
      " 3. integrated~globally efficient: higher IQ neg. corr. path length (Li&al \"Brain anatomical network and intelligence\", van den Heuvel &al \"Efficiency of functional brain networks and intellectual performance\"), PIQ corr. parietal ctx centrality in fc (Langer&al \"Functional brain network efficiency predicts intelligence\")\n",
      " 4. related to workspace theory\n",
      " 5. rel. with dynamics: ntw modularity confers robustness to connection reconfiguration, enables phase transitions\n",
      "\n",
      "**Brain networks make cost-value trade-offs**\n",
      " 1. relationship btw cost minimisation and topol. complexity\n",
      "\n",
      "* Parsimonious and permissive cost-drives to achieve segregated and integrated topology\n",
      " 1. brain organisation emerges from genetic and epigenetic [activ. dependent?]. Genetic mechanisms: gradients, expression patterns\n",
      " 2. probably physical constrains (reflected by wiring minimisation)\n",
      " 3. Integration, hwvr, requires long dist conn that violate the wiring minimisation principle\n",
      " 4. there is a trade-off\n",
      "\n",
      "* Nervous systems have high network efficiency for low cost\n",
      " 1. C. Elegans has only 5% of all possible connections with 46% of the maximum possible efficiency\n",
      " 2. \"Rentian scaling\" [a measure used for VLSI chips?] predicts predict allometry relationships for GM/WM [34, 109]\n",
      " 3. in fmri&MEG: cost (~connection density or connection distance) vs topological efficiency\n",
      " 4. connection efficiency h2=60-80% (N=16 MZ pairs, N=13 DZ pairs) [This may be a BV effect!!]\n",
      " \n",
      "* Economical reconfiguration of functional networks\n",
      " 1. classically: rsfc presents a static view\n",
      " 2. now: dynamic or task-related. +effort:+efficiency +long distance, -effort: +clustering +modularity -long distance\n",
      " 3. during maturation: adolescence (DTI): + efficiency -clustering, children/ado (fMRI): +long distance fc. Hypothesis: maturation involves reaching optimum trade-off\n",
      "\n",
      "**Disorders of brain network economy**\n",
      " 1. ntw economic analysis of brain disorders\n",
      "\n",
      "* Cost-related brain network disorders\n",
      " 1. expensive=>vulnerable to energy failures. Metabolic distress should => high-cost ntw elements disruption (hubs, long dist connections)\n",
      " 2. The model has been developed for Alzheimer: attack of expensive (hub) regions. Observed -long dist, +path length, +clustering\n",
      " 3. Multiple sclerosis: attack of expensive (long) connections.\n",
      " 4. => expensive elements are vulnerabilities to pathology\n",
      "\n",
      "* Developmental brain network disorders\n",
      " 1. involves description of ntw abnormalities & understand how these abnormalities were produced\n",
      " 2. schz: - clustering, -modulatiry, =+efficienty in patients: \"a subtle rnd of the ntw topol\"\n",
      " 3. there are also reports of the contrary...\n",
      " 4. the abnormality may be then just \"non-optimal trade-off of cost vs efficiency\"\n",
      " 5. generative modelling will be important (Vertes&al \"Simple models of human brain functional networks\")\n",
      "\n",
      "**Conclusions and future directions**\n",
      "  1. connectome topol: trade-off\n",
      "  2. further experimental & computational testing is required"
     ]
    },
    {
     "cell_type": "markdown",
     "metadata": {},
     "source": [
      "### [Biblio] Area patterning of the mammalian cortex. O'Leary & al (Neuron 2009)\n",
      "\n",
      "* Cerebral cortex: largest & most complex component of the mammalian brain, most affected by evolution. Result: Increase in size and complexity\n",
      "* Ctx arises from dorsal telencephalon, major part of the forebrain. Forebrain: anterior-most part of neural tube (out of 3). Dorsal forebrain produces telencephalic vesicles and diencephalon (thalamus/hypothalamus). Telencephalon produces dor. telencephalon, and vent. telencephalon which produces striatum and basal ganglia.\n",
      "* Ctx produces neoctx, archictx (entorhinal, retrosplenial, subiculum, hipp) and paleoctx (olfactory). Vertically: laminar pattern (6 major layers), tangentially: areas (differences: functional, cyto- chemo-architecture, connections & patterns of gene expression). Transitions from area to area are *abrupt*\n",
      "* G&A\n",
      "* G: morphogens & signaling molecules from patterning centres establish expression patterns of TFs or combinations of TFs. TFs establish and maintain areal identity, with additional contribution of TCA\n"
     ]
    },
    {
     "cell_type": "code",
     "collapsed": false,
     "input": [],
     "language": "python",
     "metadata": {},
     "outputs": []
    }
   ],
   "metadata": {}
  }
 ]
}