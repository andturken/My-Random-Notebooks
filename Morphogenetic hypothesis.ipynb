{
 "metadata": {
  "name": "",
  "signature": "sha256:b5979324b73a1ed9d3d524635f60ad603298db447d67da27aad14de392ac234f"
 },
 "nbformat": 3,
 "nbformat_minor": 0,
 "worksheets": [
  {
   "cells": [
    {
     "cell_type": "markdown",
     "metadata": {},
     "source": [
      "# Mechanical morphogenesis and the development of neocortical organisation\n",
      "*Oph\u00e9lie Foubet and Roberto Toro, Decembre 2014*"
     ]
    },
    {
     "cell_type": "markdown",
     "metadata": {},
     "source": [
      "# Abstract\n",
      "\n",
      "The development and evolution of complex neocortical organisations is thought to result from the interaction of genetic and activity-dependent mechanisms. Here we propose that a third mechanism \u2013 mechanical morphogenesis \u2013 may also play an important role. We review recent theoretical and experimental results in non-linear physics showing how homogeneous growth can produce a rich variety of forms, in particular neocortical folding. The mechanical instabilities that produce these forms also induce heterogeneous patterns of stress at the scale of the organ. We review the evidence showing how these stresses can influence cell proliferation, migration and apoptosis, cell differentiation and shape, migration and axonal guidance, thus being able to influence regional neocortical identity and connectivity."
     ]
    },
    {
     "cell_type": "markdown",
     "metadata": {},
     "source": [
      "#1. Introduction\n",
      "\n",
      "The neocortex is the most distinctive structure of the mammalian nervous system. Whereas its thickness and radial organisation vary little among species, its surface area can display >1000-fold changes, increasing the number of its specialised regions and the complexity of its connectivity. This increase in complexity is the most likely biological correlate of the increased behavioural sophistication that leads to the emergence of cognitive functions such as consciousness, creativity and language. How do complex neocortical organisations develop and evolve?\n",
      "\n",
      "Today, neocortical organisation is thought to result from the interaction of genetic and activity-dependent mechanisms. During development, morphogens and signaling molecules secreted from a reduced number of patterning centres are thought to produce gradients of expression of transcription factors, which together with neuronal activity driven by talamocortical afferents establish and maintain areal identity [O'Leary 2009]. From the perspective of evolution, an increase in neocortical complexity should result from the increased sophistication of the genetic program that would control areal identity directly, or indirectly, by first establishing the connections that will later enable activity-dependent mechanisms to operate.\n",
      "\n",
      "Here we propose that a third mechanism \u2013 mechanical morphogenesis \u2013 may also play an important role. Theoretical and experimental results from the physics of soft tissues show that homogeneous growth can produce a rich variety of forms. In particular, several biophysical models suggest that neocortical folding could be caused by this type of growth-induced mechanical instabilities. The resulting forms are associated with complex patterns of mechanical stress at different scales. The developing tissue is very sensitive to these mechanical signals, which can influence cell proliferation, apoptosis, cell differentiation, cell shape, cell migration and axonal guidance. Through mechanical morphogenesis, a broad regulation of growth could then lead to an increased number of heterogeneous areas, and the macroscopic changes in neocortical geometry could facilitate the formation of new conectivity patterns.\n",
      "\n",
      "We will first summarise the role of activity-driven and genetic mechanisms in the production of neocortical arealisation and connectivity. We will then address the problem of neocortical folding, and the difficulties [REPHRASE of the current view to explain the] correspondance between neocortical organisation and anatomy. To better understand neocortical folding and mechanical morphogenesis, we will provide a brief introduction to the theory of mechanical elasticity and growth, and a review of recent results highlighting the effect of mechanics on the developing brain tissue. Finally, we will outline a mechanical morphogenesis hypothesis for the development and evolution of neocortical organisation, its predictions, and some experimental approaches that should allow us to test them."
     ]
    },
    {
     "cell_type": "markdown",
     "metadata": {},
     "source": [
      "#2. Development of neocortical arealisation\n",
      "\n",
      "*\"It must remain an open question whether the refinement of the cortex through differentiation is always the result of external, physical causes, or whether many of the associated phenomena may be explained in other ways, unrelated to external living conditions and unrelated to the struggle for existence, rather due to a property of the organism itself, an 'energy for refinement' (R. Hertwig) or, as Naegli expresses it, a 'principle of progression'\"* [Brodman 1909, translated by Garey 2006]\n",
      "\n",
      "The neocortex is the outter-most part of the cerebral hemispheres. In the radial direction it is composed of 6 main layers containing neuronal cell bodies, the grey matter. The myelinated axons of these neurones constitute most of the cerebral white matter. Together, the neocortical grey matter and the white matter represent ~90% of the human brain. The thickness of the neocortex varies little among species. The neocortex of mice has an average thickness of 1.5 mm, compared with 2.5 mm in humans. By contrast, there are extreme differences in cortical surface area among mammals, a 1000-fold difference between mice and men. The expansion of the neocortex correlates with the development of cortical folds and the formation of an increased number of specialised regions, the cortical areas. Based on cytoarchitecture, chemoarchitecture and connectivity patterns, it is possible to distinguish ~20 cortical areas in lissencephalic species such as mice, but ~50 in gyrencephalic species such as macaques, and probably more than 200 in humans [Kaas 2012]. In gyrencephalic species, multiple studies have revealed a close relationship between cortical folding and the cytoarchitectonic, connective and functional organisation of the neocortex, suggesting that common biological processes shape them. For example, in racoons the folds of the somatosensoty cortex precisely separate the functional fields of the palm and the fingers [Welker and Campos 1963, Welker 1990]. In primates, the central sulcus divides the primary motor cortex from the somatosensory cortex, and the calcarine sulcus divides the superior and inferior visual hemifields of the primary visual cortex in the occipital lobe [Brodmann, 1909; Brodmann and Gary, 2006; Fischl et al 2007, Fischl 2013]. \n",
      "\n",
      "The major divisions of the nervous system develop during the early segmentation of the neural tube into neuromeres [Puelles, YYYY]. The neocortex is essentially a homogeneous structure, an isocortex, which develops from the rostral-most neuromere. Only a few cortical areas, such as the primary visual cortex, can be distinguished with the naked eye. For the most part, it was only after the development of staining and tracing techniques that neuroanatomist were able to describe them. A core group of areas is present in all mammals. These areas, the primary sensory and motor cortices, receive preferential innervation from specific thalamic nuclei. In species with large cortices there is a progressive addition of multi-modal associative areas, connected mostly with other neocortical regions but also with thalamic nuclei [Kubritzer YYYY].\n",
      "\n",
      "Despite their phylogenetic stability, neocortical areas are dynamic entities, whose organisation can be dramatically modified by changes in neuronal activity. For example, in animals with stereoscopic vision such as cats or monkeys, the primary visual cortex receives thalamic afferents associated with the left and the right eyes clustered into bands of ocular dominance. Early visual deprivation can change the balance between left and right innervation, or even completely supress the formation of bands [Espinosa and Stryker 2012]. The mechanisms necessary to dynamically develop this type of cortical modules seem to be shared by all vertebrates, and ocular dominance bands can be made to develop even in species which do not have them naturally. For example, the primary visual cortex of mice, or the optic tectum of frogs, are innervated by axons related to the contra-lateral eye only, and do not develop ocular dominance bands. Bands can be made to develop, however, by driving connections from an another eye, either by altering axonal guidance through gene knock-out in mice [Merlin et al 2012] or by grafting a 3rd eye in frogs [Paterson and X 197Y]. The link between primary cortices and specific sensory modalities can be also modified by activity. In a series of experiments in ferrets, Sur and colleagues [Sur et al 1988, Roe et al 1990, 1992, Sharma et al 2000] forced visual afferents to innervate what would normally be the auditory cortex, making it acquire some of the cytoarchitectonic and functional properties of the visual cortex [Sharma et al 2000]. Rewired ferrets exhibited visual behaviour similar to normal ferrets [Von Melchner et al 2000].\n",
      "\n",
      "Because of this remarkable plasticity, neuronal activity was thought to be the primary cause of neocortical arealisation. The existence of intrinsic mechanisms, however, had been hypothesised since the first treatises on cortical cytoarchitecture [Brodmann 1909]. The idea was much discussed at the end of the 80s with the introduction of the *protomap* [Rakic 1988] and the *protocortex* [O'Leary 1989] hypotheses, which emphasised differently the role of genetic and activity-dependent mechanisms in neocortical arealisation. The first direct evidence for a genetic mechanism came 10 years later, with the demonstration of the roles of *Emx2* and *Pax6* in the specification of cortical progenitor identity [Bishop et al 2000, Mallamaci et al 2000, see O'Leary 2007 for a review]. Subsequent studies showed the existence of several patterning centres located at the periphery of the neocortex, secreting morphogenes and signaling molecules such as members of the fibroblast growth factor family (FGFs) and bone morphogenetic proteins (BMPs). These molecules formed gradients over the ventricular zone \u2013 where most neocortical neurones are produced \u2013 which controlled the expression of transcription factors such as Emx2, Pax6, COUP-TF1, or Sp8 in cortical progenitors. Neurones produced in the ventricular zone migrate radially to form the cortical plate, which later matures into the neocortex. Each position of the ventricular zone could be then characterised by a unique combination of transcription factors, encoding the neocortical areal identity that is propagated through radial migration. The experimental alteration of the morphogenetic gradients, or the expression of transcription factors has been shown to result in the displacement or even the duplication of cortical areas [Fukushi-Shimogori et al 2001], as well as marked changes in the proportions of others [].\n",
      "\n",
      "Today, both intrinsic genetic and extrinsic activity-dependent mechanisms are thought to act together to cause neocortical arealisation. The initial gradients of gene expression in the ventricular zone and the cortical plate would be genetically encoded, defining in some cases areal identity directly, or defining first the connectivity patterns that would later allow neuronal activity to refine the basic area map, producing the discrete areas and modules of the adult neocortex [O'Leary 200Y, O'Leary and SAHARAHA 200Y]. The phylogenetic differences in neocortical complexity between mice and humans, for example, would result then from differences in the sophistication of the genetic program that either prescribes areal identity directly, or indirectly by encoding first connectivity.\n",
      "\n",
      "But how do we explain the relationship between neocortical arealisation and brain folding? One possibility is that the same genetic program that encodes arealisation (directly, or indirectly through neuronal activity) would produce the formation of folds at specific locations [Ronan and Fletcher 2015]. Species-specific folding patterns would be then a reflection of the genetic programs that produce the different neocortical area maps. For example, gyri could result from a locally higher production of neurones [Smart and McSherry 198Y, Welker 1990, Reillo et al 2011, Ronan and Fletcher 2015]. Borrell and colleagues have reported that in ferrets the density of dividing progenitors at P3 (3rd postnatal day, when the cortex is still smooth) was higher under the region that will later become the splenial gyrus compared with the neighbouring regions, that will later become sulci. Alternatively, folds could result from the active contraction of axonal fibres connecting different neocortical areas together [Van Essen 1997, Hilgetag and Barbas 20YY, Egas YYYY]. Van Essen [1997] reported that neighbouring areas with strongly interconnections were more often on facing sides of a gyrus, compared with weakly connected areas, which tended to be separated by a sulcus. The same genetic program that encodes brain connectivity would then produce neocortical folding as a by-product.\n",
      "\n",
      "However, these explanations do not take into account the physics of growth and the geometric and mechanical properties of the developing brain. The mechanical stress patterns that would produce brain folding if it were due to bulging or bending are not compatible with those observed in real brains [Xu et al 2009, 2010]. Recent theoretical and experimental evidence suggest that brain folding is more likely the result of a buckling instability induced by global neocortical growth: submitted to homogeneous growth, physical systems similar to the developing brain produce folding patterns strikingly reminiscent to those of real brains. The intrinsic \"energy for refinement\" alluded by Brodmann could well be both biological and physical."
     ]
    },
    {
     "cell_type": "markdown",
     "metadata": {},
     "source": [
      "#3. The physics of mechanical morphogenesis\n",
      "\n",
      "##3.1. Elasticity\n",
      "Brain tissue is composed in a large part of water, it is mostly incompressible (its volume is conserved despite deformation), elastic (after deformation it recovers its original shape), and to some extent plastic (strong or prolongued deformation produce a permanent change in shape). The elastic forces produced by deformation can be calculated relative to an idealised rest configuration, where the tissue is free of mechanical stress (see Fig. X). We can imagine that we subdivide the tissue at rest into small volume elements, and then that we look at how each of them is transformed in the deformed configuration. Each volume element can be described by a small cube, and the corresponding stretched and skewed box in the deformed tissue. It is possible now, for each volument element, to compute a 3x3 transformation matrix $\\mathbf{F}$ that changes the cube at rest into the deformed box. This transformation matrix $\\mathbf{F}$ is called the deformation tensor.\n",
      "\n",
      "In order to compute the mechanical forces produced by deformation, we need a constitutive model that will describe how deformation and force are related. One of the simplest constitutive models is Hook's law, which states that force is proportional to deformation. In the case of a linear spring, for example, elastic force would be just proportional to elongation. The proportionality constant is known as Young's modulus ($E$) whose unit of measurement is the Pascal (Pa). Brain tissue is very elastic, similar to jelly, $E$~1.5 kPa. By contrast, Young's modulus for rubber is $E$~10-100 kPa, and for metal $E$>10 GPa.\n",
      "\n",
      "In two or three dimensions, a new parameter is required to describe how much pulling in one direction will produce stretch in the orthogonal directions: Poisson's ratio ($\\nu$). For example, stretching a square of rubber to twice its length, will make it shrink to half its width: a Poisson's ratio of 0.5. By contrast, compressing a piece of cork in one direction produces almost no change in the others: the Poisson's ratio of cork is close to 0. A linear constitutive model will include these 2 constants $E$ and $\\nu$. It is sometimes convenient to combine Young's modulus and Poisson's ratio into a bulk modulus $K$ and a shear modulus $\\mu$. The bulk modulus represents the amount of mechanical stress produced by changes in volume, whereas the shear modulus represents the amount of stress produced by changes that do not affect the element's volume.\n",
      "\n",
      "But biological tissues can be described using a linear constitutive model only for very small deformations. Most frequently, a hyperelastic constitutive model is required, where the relationship between deformation and force is non-linear. A widely used hyperelastic constitutive model is the Neo-Hookean model introduced by Rivlin (YYYY). The model is defined in terms of the elastic energy W that the deformation described by the tensor $\\mathbf{F}$ will produce in a material of shear modulus $\\mu$ and bulk modulus $K$:\n",
      "\n",
      "$W=\\mu (Tr(\\mathbf{F} \\mathbf{F}^T) J^{-2/3}-3) + K (J-log(J)-1)$.\n",
      "\n",
      "In this equation $J$ measures the change in volume produced by the deformation $\\mathbf{F}$ (mathematically, $J=det(\\mathbf{F})$). If a volume element is shrunk by $\\mathbf{F}$ then $0 \\lt J \\lt 1$, if it is expanded, then $J \\gt 1$, and if volume is conserved as in the case of incompresible materials, then $J=1$. The left-hand side of the equation has 2 components. The first one, multiplied by $\\mu$, increases the energy $W$ as the shear components of $\\mathbf{F}$ increase (the off-diagonal elements of the matrix $\\mathbf{F}$). The second part, multiplied by $K$, increases $W$ as $\\mathbf{F}$ produces volume changes. In this second part, if there is no change in volume then $J=1$, $log(J)=0$, and there is no change in energy due to bulk volume changes. If $\\mathbf{F}$ shrinks the volume element so that $J$ is close to 0, then $-log(J)$ will be very large, increasing the total elastic energy $W$. $W$ will also increase if $J \\lt 1$, but the increase will not be proportional to the deformation because of the subtraction of $log(J)$: in the Neo-Hookean model disproportionately larger forces are required to keep increasing the deformation."
     ]
    },
    {
     "cell_type": "markdown",
     "metadata": {},
     "source": [
      "##3.2. Growth\n",
      "Growth introduces a different kind of deformation. In an influencial article, Rodriguez et al (1994) conceptualised the deformation induced by growth as the composition of a term related to elasticity and another related to growth itself:\n",
      "\n",
      "$\\mathbf{F_T}=\\mathbf{F} \\cdot \\mathbf{G}$.\n",
      "\n",
      "Applying the deformation tensor $\\mathbf{F_T}$ to a volume element is then equivalent to make it grow first, and introduce the deformation due to elasticity next. Only the elastic part of the deformation, however, changes the elastic energy $W$.\n",
      "\n",
      "Consider for example a ring of elastic material that grows only in circumference but not in thickness. If we cut the ring before it grows, as shown in Fig. XXX, the borders could be made to match without introducing any force. After growing, however, the length of the ring will have increased so that joining the borders will introduce a residual stress all over it. After joining the borders, the ring will undergo compression in the circumferencial direction, and depending on its Poisson's ratio, it will also undergo a force in the radial direction. Growth can be thought as a deformation of the resting configuration of the volume elements of an object, independently one from another. The requirement of continuity of the object will then introduce elastic forces, and possibly a field of residual stress across the object.\n",
      "\n",
      "The morphogenetic effect of growth within the framework proposed by Rodriguez et al. (1994) has been addressed in several theoretical studies and confirmed experimentally. The elastic instabilities induced by growth can explain aspects of the shape of flowers (Ben-Amar et al 2012), the formation of villi and crypts in intestinal epithelium (Hannezo et al 2011), growing tumors (Ciarletta 2013) or mucosa wall patterning (Xie et al 2014) among many others. In particular, the effect of growth and elasticity in systems resembling the cerebral cortex has been observed to introduce different buckling instabilities which are able to produce folds of a geometry and a scale similar to those of real brains."
     ]
    },
    {
     "cell_type": "markdown",
     "metadata": {},
     "source": [
      "##3.3. Buckling instabilities and neocortical folding\n",
      "\n",
      "During the inside-out migration of neurones from the ventricular zone (Rakic 1988, 2009) and the intermediate zone (Reillo et al 2011) the cerebral cortex of many gyrencephalic mammals is still smooth and mostly undifferentiated (Welker 1991). Once cell migration is finished, the neocortex starts a period of fast expansion, due to the increase of intracortical connectivity, dendrites and glia.\n",
      "\n",
      "At this early stage, the mechanical system composed by the neocortex and subcortical structures (including radial glia and the developing white matter) can be viewed as a system of two elastic substrates, one of which undergoes much more growth than the other. The deformation of an elastic layer whose surface area is much larger than its thickness (a \"thin plate\" in mechanics) is often described using F\u00f6ppl-von K\u00e1rm\u00e1n equations. Although there is no general solution for these equations, they can be solved for particular cases or approximated through numerical simulation.\n",
      "\n",
      "When submitted to load, shrinkage or growth, F\u00f6ppl-von K\u00e1rm\u00e1n equations predict different types of buckling instabilities. For small deformations, stretching is energetically less costly than bending and the system grows without folding (this is likely the reason why small brains are lissencephalic). As deformation increases, however, there is a critical threshold after which bending becomes less costly than further stretching and the system buckles. Among these buckling instabilities, wrinkles (Bowden et al 1998, Cerda and Mahadevan 2003, Davidovitch et al 2011), folds (Pocivavsek et al 2008) and creases (Hohfeld and Mahadevan 2011, Tallinen et al 2014) can produce patterns strikingly similar to those observed in gyrencephalic brains. Wrinkles develop when a stiff, thin, elastic layer \u2013 a skin \u2013 grows over a softer one. Wrinkles are sinusoidal undulations and are the first instabilities observed after buckling. They can develop into folds, where deformations are more localised, with flat regions coexisting with valleys or depressions of the stiff layer. Creases (also called sulci) are similar to folds, but they do not require a difference in stiffness between skin and substrate to develop. Whereas the depth of wrinkles and folds is smooth, similar to the first stages of gyrogenesis, the depth of creases is cusped, similar to the shape of adult brain sulci.\n",
      "\n",
      "The first model of brain folding based on the emergence of a buckling instability was that of Richman et al (197Y). This was a model of wrinkling where smooth, sinusoidal, folds developed because of a difference in growth and stiffness between the superior and inferior layers of the neocortex. The model proposed a mechanism for producing folding through exclusively neocortical means (i.e., without requiriyng a cranial constraint). The model left unanswered, however, the questions of the constancy of species-specific folding patterns and the relationship between folding and neocortical organisation (cytoarchitecture, connectivity, function).\n",
      "\n",
      "These questions were addressed by the model of Toro and Burnod (2005). In this 2D model wrinkling was produced by the growth of the neocortex layer over an elastic and plastic substrate representing white matter and radial glia. In addition to elasticity, the tissues were also considered to be plastic: the heterogeneous mechanical stress induced by folding could induce local cortical growth and reabsorption, or the elongation and contraction of the white matter. Toro and Burnod (2005) observed that the formation and orientation of folds (wrinkles) could be modulated by cytoarchitectonic differences if they were already present, but also by the initial (unfolded) geometry of the cortical layer. This last mechanism could provide a purely geometric basis for the development and evolution of species-specific folding patterns.\n",
      "\n",
      "The models by Richmann et al (197Y) and Toro and Burnod (2005) were purely theoretical, but more recent models based on mechanical parametres similar to those of real brains show that the morphology and stress patterns produced by buckling agree with those observed experimentally (Bayly et al 2013, Manyuhina et al 2014, Budday et al 2014a,b, Tallinen et al 2014).\n",
      "\n",
      "These models suggest that mechanical instabilities induced by homogenous growth are sufficient to produce folds, without requiring specific, local, gyrogenetic mechanisms such as a genetically determined, regionally higher rates of growth in pro-gyral regions (Welker 199Y, Lef\u00e8vre and Mangin 20YY, Reillo et al 2011), specific cortico-cortical connectivity between pro-gyral walls (Van Essen 1997, Hilgetag and Barbas 20YY), or a specific attachment of pro-sulcal regions (Smart and McSherry 198Y, R\u00e9gis et al 2005).\n",
      "\n",
      "Additionally, these models suggest that the pattern of folding could be determined by the initial geometry of the neocortex. The orientation of folds in many species has been observed to correspond with the lines of principal curvature of the surface (Todd 198Y), which in many cases correspond with directions either concentric or orthogonal to the system formed by the corpus callosum and the Sylvian fissure (Toro and Burnod 2003, R\u00e9gis et al 2005). In the same way that the geometry of a dome rigidifies its structure, the initial geometry of the neocortex makes some regions easier to fold than anothers, facilitating the development of folds in some specific regions.\n",
      "\n",
      "Previous theories explained the relationship between neocortical organisation and brain folding by encoding both of them in the genome. But if folding and folding patterns result from mechanical growth-induced buckling instabilities, we have to consider the possibility that, at least in part, __brain folding may have a causal effect on neocortical organisation__. "
     ]
    },
    {
     "cell_type": "markdown",
     "metadata": {},
     "source": [
      "#4. Effect of mechanical forces on neocortical development\n",
      "The macroscopic, heterogeneous, residual stress induced by brain folding could regionally modulate cell proliferation, cell fate and cell shape, influence axonal guidance and even synaptic activity, thus affecting the organisation of the neocortex. Localised stress is known to modulate tissue volume, with tension facilitating tissue growth and compression promoting reabsorption (Fung, 1993; Rodriguez et al., 1994). Compressing a tumour spheroid formed from carcinoma cells decreases cell proliferation in the regions of high mechanical stress, and cells could even undergo apoptosis if stress is sufficiently high (Cheng et al 2009, Montel et al 2012). In neural stem cells culture, the rate of cell division reaches a peak at 1-4 kPa, but decreases in stiffer or softer substrates. In gels softer than ~10 Pa, the spreading, self-renewal and differentiation of neural stem cells is almost completely inhibited (Saha et al 2008). Mechanical stress can affect progenitor cells directly, but also indirectly, by affecting the structure of the extra-cellular matrix. Mechanical stress could result in differential local concentrations of extra-cellular matrix components, which in turn could lead to differences in cell signalling and adhesion (Lutolf et al 2009).\n",
      "\n",
      "In addition to cell proliferation, cell fate and differentiation can be regulated by mechanical forces. Engler et al (2006) showed that naive mesenchymal stem cells cultured on a substrate mimicking the elasticity of brain, muscle or bone, differentiated respectively into branched cells similar to primary neurons, spindle-shaped cells similar to myoblasts or polygonal cells similar to osteoblasts. Interestingly, whereas reprogramming these lineages by the addition of soluble induction factors was possible only during the initial week in culture, changes in cell fate through manipulation of matrix elasticity were possible even after several weeks. In neural stem cells culture, Saha et al (2008) showed that soft gels (~100-500 Pa) produced mostly neurones, whereas increasingly harder gels (up to 1-10 kPa) produced progressively more glial cells. In vivo, neocortical neurons grow along glial cells, which may be due in part to the fact that glia are significantly softer than their neighbouring neurons (Lu et al 2006).\n",
      "\n",
      "The shape of differentiated cells can also respond to the mechanical properties of their environment. Neurones cultured on soft substrates (50-300 Pa) develop up to 3 times more branching than those cultured on stiffer gels (XX-YY Pa, Flanagan et al 2002). Neurones also seem to require a certain amount of mechanical tension to mature. In vitro, the axonal branches which attach more strongly to the substrate are conserved and stabilised, whereas the remaining branches are retracted or eliminated (Anava et al 2009). Pulling axons at different speeds not only increases their lenght accordingly, but also their calibre (Bray 1984). That is, nerve cell respond to tension applied along their axons by building more axon, increasing the length and number of its microtubules, neurofilaments and membrane components.\n",
      "\n",
      "Buckling models of neocortical folding predict gradients of mechanical stress between gyri and sulci spanning the thichness of the cortex and close white matter. These gradients could participate to the establishment of the differences in cell shape and layering observed in vertebrates (Welker 199Y). Cells migration and axonal pathfinding respond to mechanical clues (Saez et al 2007), and could be guided by the mechanical stiffness gradients produced by growth-driven buckling instabilities. Finally, tension in neurons has been observed to produce an active accumulation of the synaptic vesicles involved in neurotransmitter releasing to postsynaptic cells (Ahmed et al 2012), which leads to a possible modulation of the synaptic activity by the mechanical properties of the surrounding tissue."
     ]
    },
    {
     "cell_type": "markdown",
     "metadata": {},
     "source": [
      "#5. Discussion\n",
      "\n",
      "##5.1. A hypothesis about neocortical development and evolution\n",
      "\n",
      "From the previous considerations emerges a model where the development and evolution of the neocortex result from the interaction of genetic, mechanical and activity-driven mechanisms. Brain development is the plastic deployment of a complex organisation, involving a massive production of cells, their migration, differentiation, specialisation and interconnection. Under the forces of biological growth, brain tissue undergoes major changes in geometry correlated with constant changes in the distribution of mechanical stress. This is the context within which patterning centres diffuse morphogenes and signalling molecules. Through their effect on transcription factors and cell behaviour (proliferation, differentiation,...), these molecules can affect local growth and the mechanical properties of the developing tissue, changing the global distribution of stress. In return, mechanical gradients can affect gene expression and cell behaviour back, in a continuous interplay between biological and physical forces. Neocortical organisation is layed out in this dynamic substrate, under the influence of gradients of morphogenes, signalling molecules and mechanical stress.\n",
      "\n",
      "New cortical areas could develop because of an increase in the complexity of the intrinsic response to transcription factors. Morphogenetic gradients established by the diffusion of molecular signals from patterning centres could provide unique coordinates for each point in the cortical mantle. This could regulate the local expression of different transcription factors. In response to different combinations of transcription factor levels, cortical tissue could develop a restricted number of cell identities: the basis of the future cortical areas. Through these morphogenetic gradients, intrinsic genetic mechanisms could also regulate the expression of axonal guidance molecules, and control the formation of specific connectivity patterns.\n",
      "\n",
      "But new areas could also develop because of mechanical morphogenesis. Homogeneous cortical growth could induce buckling instabilities that could produce cortical folding. Each fold would be characterised by a geometric deformation \u2013 a gyrus \u2013 and a mechanical stress pattern, with tension in gyral crowns, compression in sulcal fundi, and a gradual change in tension across cortical layers and close white matter. For comparable thickness, a large cerebral cortex should develop more folds, i.e., more of these discontinuous mechanical domains. The geometric and mechanical changes within each fold would introduce localised changes in cell identity and influence the formation of brain connectivity. Depending on their spatial situation and time of development, neurones within each fold would establish different sets of connections with the rest of the brain, in particular with sensory and motor thalamic nuclei.\n",
      "\n",
      "The causes of the formation of a new area could be then genetic \u2013 a change in the complexity of the response to gradients of transcription factors \u2013 or mechanical \u2013 a change in the number of morphogenetic domains. In both cases, whether new cortical areas appear because of a change in the genetic program or because of the effect if mechanical morphogenesis, the organisation produced by intrinsic genetic or mechanical factors could be plastically modified by neuronal activity, which in turn could influence gene expression or change the mechanical properties of the tissue."
     ]
    },
    {
     "cell_type": "markdown",
     "metadata": {},
     "source": [
      "##5.1. Consequences of mechanical morphogenesis\n",
      "\n",
      "Across species, the number of cortical areas and the complexity of the connectivity patterns correlates with brain size [REF Sereno? Bourgeois?]. In a small brain, the number of cortical areas should be determined by the discrete number of possible responses of the nervous tissue to different levels of transcription factors, by the response to monotonous gradients of mechanical stress (in the absence if buckling and brain folding), or by the plastic response to activity driven by thalamic afferents. An evolutionary change in brain size sufficient to induce cortical folding should lead to the creation of new cortical areas and connectivity patterns even if the number of responses to transcription factor levels or to neuronal activity stays the same. Because large brains are progressively more folded than small ones, and develop an exponentially larger amount of connections, mechanical morphogenesis could explain at least in part the observed augmentation in the number of cortical areas.\n",
      "\n",
      "The effect of mechanical morphogenesis on neocortical organisation could also be studied within a single species, where genetic differences are much smaller, restricted mostly to genetic polymorphism. Despite a high genetic similarity [Kaessmann et al 2001], humans exhibit a remarkable diversity in total brain volume, mostly due to differences in total cortical surface area. Large human brains have disproportionately more cortical surface area and are significantly more folded than small ones. These differences are mainly due to tertiary folds (shallow, late developing and variable) and in some cases to secondary folds, but the deep, early developing folds, are very stable. Nevertheless, we should observe a larger number of neocortical areas in larger, more folded brains, as well as differences in the connectivity patterns. Some reports suggest indeed that the presence of supplementary folds among humans, such as the paracingulate fold of the cingulate cortex, can be associated with differences in behaviour [Fornito et al 2004, 2006] and even cytoarchitecture [Vogt 1995]. In addition to natural inter-subject diversity, pathologies of such as lissencephaly and microgyria, should also provide an opportunity to study the effect of mechanical morphogenesis on neocortical organisation. We should observe a change in the number of cortical areas and connectivity patterns associated with the changes in cortical folding, especially if the pattern of early developing, primary folds, is affected."
     ]
    },
    {
     "cell_type": "markdown",
     "metadata": {},
     "source": [
      "##5.2. Experimental perturbations of mechanical morphogenesis\n",
      "\n",
      "If our hypothesis is correct, mechanical perturbations of the developing cortex should be able to modify the area map, add new areas, or produce new connectivities. As with genetic perturbations (gene knock-outs, knock-ins, etc.) or perturbations of neuronal activity (sensory deprivation, rewiring, etc.), perturbations of mechanical morphogenesis will require to develop appropriate controls to ensure that the effects observed are due to the intended perturbation and not to experimental artefacts.\n",
      "\n",
      "The ferret has been often used to study brain folding. At birth, its neocortex is completely smooth, but after a first stage of growth without folding, somewhere between P4 and P8 it starts to fold. After one month, the ferret has a richly folded neocortex with deep sulci organised in a characteristic folding pattern. If brain folding is produced because of a buckling instability, the ferret neocortex should be at a maximally unstable state right before folding, probably by P4. A small mechanical perturbation introduced at this time should be enough to trigger the formation of an artificial fold. Mechanically, the most probable orientation of a fold should be along one of the 2 principal curvature directions of the surface before folding (Do Carmo 19YY, Todd 198Y, Toro 2012, Tallinen et al 2014). If a natural fold is formed along one principal curvature direction, it should be possible in theory to force the formation of an artificial fold along the other, orthogonal, principal curvature direction.\n",
      "\n",
      "\n",
      "In wild-type ferrets, an increased rate of neurogenesis (higher density of Tbr2+ progenitors) has been observed in regions that will later underlie a gyrus (Reillo et al 2011). If neurogenesis is influenced by the mechanical stress that builds a fold, we should observe a new, ectopic increase of neurogenesis under the artificial gyri, or a decrease under the artificial sulci. As a result, the orientation of the cortical areas in the mechanically perturbed cortex should be different than in the wild-type ferret, and correspond with the orientation of the new folding pattern. Additionally, if connectivity is influenced by the geometry of folding, we should observe an altered pattern of cortico-cortical and cortico-subcortical connectivity. Neuronal activity should further influence the organisation of the new cortical areas, depending on the sensory modalities of the thalamic afferents they receive. The behaviour of the animals should also be changed as a result of the new brain organisation. In rewired ferrets the speed of pain learning for [AQUI VOY]."
     ]
    },
    {
     "cell_type": "markdown",
     "metadata": {},
     "source": [
      "#6. Conclusion\n",
      "We have outlined a hypothesis on the role of mechanical morphogenetic processes in the development and evolution of neocortical organisation, complementary of those of genetic and activity-driven mechanisms."
     ]
    },
    {
     "cell_type": "markdown",
     "metadata": {},
     "source": [
      "#References\n",
      "\n",
      "* Bayly PV, Okamoto RJ, Xu G, Shi Y, Taber LA (2013) A cortical folding model incorporating stress-dependent growth explains gyral wavelengths and stress patterns in the developing brain. Phys Biol doi:10.1088/1478-3975/10/1/016005\n",
      "* Manyuhina OV, Mayett D, Schwarz JM (2014) Elastic instabilities in a layered cortex: A revised axonal tension model for cortex folding. ArXiv:1407.3778v1\n",
      "* Budday (2014)\n",
      "* Budday (2014)\n",
      "* Tallinen (2014)\n",
      "* Xu, G., Bayly, P. V., and Taber, L. A., 2009, \u201cResidual Stress in the Adult Mouse Brain,\u201d Biomech. Model. Mechanobiol., 8, pp. 253\u2013262.\n",
      "* Xu G, Knutsen AK, Dikranian K, Kroenke CD, Bayly PV, Taber LA (2010) Axons pull on the brain, but tension does not drive cortical folding. J Biomech Eng 132:071013"
     ]
    },
    {
     "cell_type": "code",
     "collapsed": false,
     "input": [],
     "language": "python",
     "metadata": {},
     "outputs": []
    }
   ],
   "metadata": {}
  }
 ]
}