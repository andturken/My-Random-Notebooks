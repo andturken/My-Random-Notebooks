{
 "cells": [
  {
   "cell_type": "markdown",
   "metadata": {},
   "source": [
    "# Phylogenetic regression\n",
    "\n",
    "Roberto Toro, February 2017\n",
    "\n",
    "The aim of phylogenetic regression is to include phylogenetic relationships as structure of the variance-covariance matrix of the residuals in a generalised least squares regression.\n",
    "\n",
    "This notebook implements the PGLS computations described in the book \"Modern Phylogenetic Comparative Methods and Their Application in Evolutionary Biology\", chapter 5: \"A Primer on Phylogenetic Generalised Least Squares\". The results are then compared with those obtained with a specialised R package for the analysis of phylogenetic data."
   ]
  },
  {
   "cell_type": "code",
   "execution_count": null,
   "metadata": {
    "collapsed": true
   },
   "outputs": [],
   "source": []
  },
  {
   "cell_type": "code",
   "execution_count": null,
   "metadata": {
    "collapsed": true
   },
   "outputs": [],
   "source": []
  }
 ],
 "metadata": {
  "anaconda-cloud": {},
  "kernelspec": {
   "display_name": "R",
   "language": "R",
   "name": "ir"
  },
  "language_info": {
   "codemirror_mode": "r",
   "file_extension": ".r",
   "mimetype": "text/x-r-source",
   "name": "R",
   "pygments_lexer": "r",
   "version": "3.3.1"
  }
 },
 "nbformat": 4,
 "nbformat_minor": 0
}
