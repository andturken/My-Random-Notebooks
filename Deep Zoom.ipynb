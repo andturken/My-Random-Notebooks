{
 "metadata": {
  "name": "",
  "signature": "sha256:bb2c4838051ab4c3c33ecd3b1242c9572df10c0ce725fa70697546a4244f97b4"
 },
 "nbformat": 3,
 "nbformat_minor": 0,
 "worksheets": [
  {
   "cells": [
    {
     "cell_type": "markdown",
     "metadata": {},
     "source": [
      "#Deep Zoom converter\n",
      "\n",
      "Input is a large image (jpg, png), output is a pyramid of smaller images and a .dzi file (dzi stands for Deep Zoom Image). The .dzi file can be displayed in a web page using the OpenSeadragon browser.\n"
     ]
    },
    {
     "cell_type": "code",
     "collapsed": false,
     "input": [
      "import os\n",
      "os.chdir(\"/Users/roberto/Documents/_04_Data/2006_02FerretBrain/2013_01FerretMRIProject/deepzoom.py-develop\")\n",
      "import deepzoom"
     ],
     "language": "python",
     "metadata": {},
     "outputs": [],
     "prompt_number": 13
    },
    {
     "cell_type": "code",
     "collapsed": false,
     "input": [
      "dir1=\"/Users/roberto/test-06.jpg\"\n",
      "dir2=\"/Library/WebServer/Documents/virtualmicroscope/img/\"\n",
      "src1=\"test-06.jpg\"\n",
      "src2=\"ISH_image155_nissl_series121129675.jpg\"\n",
      "creator = deepzoom.ImageCreator(tile_size=128, tile_overlap=2, tile_format=\"jpg\",image_quality=0.8, resize_filter=\"bicubic\")\n",
      "creator.create(dir2+src2, dir2+\"ISH_image155_nissl.dzi\")"
     ],
     "language": "python",
     "metadata": {},
     "outputs": [],
     "prompt_number": 19
    },
    {
     "cell_type": "code",
     "collapsed": false,
     "input": [],
     "language": "python",
     "metadata": {},
     "outputs": []
    }
   ],
   "metadata": {}
  }
 ]
}