{
 "metadata": {
  "name": "",
  "signature": "sha256:404de5b339d3aebe8b7c534ac5c3e4eb9cb71a9ff7fba853ade479fde6c0a5c4"
 },
 "nbformat": 3,
 "nbformat_minor": 0,
 "worksheets": [
  {
   "cells": [
    {
     "cell_type": "code",
     "collapsed": false,
     "input": [
      "import numpy"
     ],
     "language": "python",
     "metadata": {},
     "outputs": [],
     "prompt_number": 93
    },
    {
     "cell_type": "code",
     "collapsed": false,
     "input": [
      "def open_vtk(filepath):\n",
      "    f = open(filepath, 'r');\n",
      "    i=0;\n",
      "    j=0;\n",
      "    np=0;\n",
      "    nt=0;\n",
      "    ip=0;\n",
      "    it=0;\n",
      "    for str in f:\n",
      "        arr=str.split(\" \");\n",
      "        if(arr[0]==\"POINTS\"):\n",
      "            np=int(arr[1]);\n",
      "            p=numpy.zeros((np,3));\n",
      "        elif(np>0 and ip<np):\n",
      "            j=0;\n",
      "            for val in arr:\n",
      "                try:\n",
      "                    p[ip,j]=float(val);\n",
      "                    j=j+1;\n",
      "                    if(j==3):\n",
      "                        j=0;\n",
      "                        ip=ip+1;\n",
      "                except:\n",
      "                    pass;\n",
      "        elif(arr[0]==\"POLYGONS\"):\n",
      "            nt=int(arr[1]);\n",
      "            t=numpy.zeros((nt,3));\n",
      "        elif(nt>0 and it<nt):\n",
      "            j=0;\n",
      "            for val in arr:\n",
      "                try:\n",
      "                    if(j>0):\n",
      "                        t[it,j-1]=int(val);\n",
      "                    j=j+1;\n",
      "                    if(j==4):\n",
      "                        j=0;\n",
      "                        it=it+1;\n",
      "                except:\n",
      "                    pass;\n",
      "\n",
      "        i=i+1;\n",
      "    f.close();\n",
      "    \n",
      "    mesh={};\n",
      "    mesh[\"np\"]=np;\n",
      "    mesh[\"nt\"]=nt;\n",
      "    mesh[\"p\"]=p;\n",
      "    mesh[\"t\"]=t;\n",
      "    return mesh;"
     ],
     "language": "python",
     "metadata": {},
     "outputs": [],
     "prompt_number": 94
    },
    {
     "cell_type": "code",
     "collapsed": false,
     "input": [
      "def A(p0,p1,p2):\n",
      "    #a,b,c    // side lengths\n",
      "    #s        // semiperimeter\n",
      "    a=numpy.linalg.norm(p0-p1);\n",
      "    b=numpy.linalg.norm(p1-p2);\n",
      "    c=numpy.linalg.norm(p2-p0);\n",
      "    s=(a+b+c)/2.0;\n",
      "    return numpy.sqrt(s*(s-a)*(s-b)*(s-c))"
     ],
     "language": "python",
     "metadata": {},
     "outputs": [],
     "prompt_number": 110
    },
    {
     "cell_type": "code",
     "collapsed": false,
     "input": [
      "#filepath=\"Ferret Neocortical Folding/p4-F09.vtk\"\n",
      "f1=\"Ferret Neocortical Folding/P0-P4/p0-F02_trajectory___t_0.vtk\"\n",
      "f2=\"Ferret Neocortical Folding/P0-P4/p0-F02_trajectory___t_6.vtk\"\n",
      "\n",
      "m1=open_vtk(f1);\n",
      "m2=open_vtk(f2);\n",
      "\n",
      "nt=m1[\"nt\"];\n",
      "np=m1[\"np\"];\n",
      "t=m1[\"t\"];\n",
      "p1=m1[\"p\"];\n",
      "p2=m2[\"p\"];"
     ],
     "language": "python",
     "metadata": {},
     "outputs": [],
     "prompt_number": 111
    },
    {
     "cell_type": "code",
     "collapsed": false,
     "input": [
      "pmap=numpy.zeros(np);\n",
      "tmap=numpy.zeros(nt);\n",
      "neig=numpy.zeros(np);\n",
      "for i in range(0,nt):\n",
      "    # compute deformation at each triangle\n",
      "    A1=A(p1[t[i,0]],p1[t[i,1]],p1[t[i,2]]);\n",
      "    A2=A(p2[t[i,0]],p2[t[i,1]],p2[t[i,2]]);\n",
      "    J=numpy.log(A2/A1);\n",
      "    # distribute the deformation among the vertices\n",
      "    pmap[t[i,0]]+=J;\n",
      "    pmap[t[i,1]]+=J;\n",
      "    pmap[t[i,2]]+=J;\n",
      "    neig[t[i,0]]+=1;\n",
      "    neig[t[i,1]]+=1;\n",
      "    neig[t[i,2]]+=1;\n",
      "for i in range(0,np):\n",
      "    pmap[i]/=neig[i];\n"
     ],
     "language": "python",
     "metadata": {},
     "outputs": [],
     "prompt_number": 134
    },
    {
     "cell_type": "code",
     "collapsed": false,
     "input": [
      "f=open(\"Ferret Neocortical Folding/jmap.txt\",\"w\");\n",
      "f.write(\"%i 1\\n\"%np);\n",
      "for i in range(0,np):\n",
      "    f.write(\"%f\\n\"%pmap[i]);\n",
      "f.close();"
     ],
     "language": "python",
     "metadata": {},
     "outputs": [],
     "prompt_number": 146
    },
    {
     "cell_type": "code",
     "collapsed": false,
     "input": [],
     "language": "python",
     "metadata": {},
     "outputs": []
    }
   ],
   "metadata": {}
  }
 ]
}