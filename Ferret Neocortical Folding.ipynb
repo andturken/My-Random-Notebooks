{
 "metadata": {
  "name": "",
  "signature": "sha256:17e9e2e2f968822f827d9a20556ca027808f7511195c1ae41dde5430f1bc47fc"
 },
 "nbformat": 3,
 "nbformat_minor": 0,
 "worksheets": [
  {
   "cells": [
    {
     "cell_type": "code",
     "collapsed": false,
     "input": [
      "import numpy"
     ],
     "language": "python",
     "metadata": {},
     "outputs": [],
     "prompt_number": 93
    },
    {
     "cell_type": "code",
     "collapsed": false,
     "input": [
      "def open_vtk(filepath):\n",
      "    f = open(filepath, 'r');\n",
      "    i=0;\n",
      "    j=0;\n",
      "    np=0;\n",
      "    nt=0;\n",
      "    ip=0;\n",
      "    it=0;\n",
      "    for str in f:\n",
      "        arr=str.split(\" \");\n",
      "        if(arr[0]==\"POINTS\"):\n",
      "            np=int(arr[1]);\n",
      "            p=numpy.zeros((np,3));\n",
      "        elif(np>0 and ip<np):\n",
      "            j=0;\n",
      "            for val in arr:\n",
      "                try:\n",
      "                    p[ip,j]=float(val);\n",
      "                    j=j+1;\n",
      "                    if(j==3):\n",
      "                        j=0;\n",
      "                        ip=ip+1;\n",
      "                except:\n",
      "                    pass;\n",
      "        elif(arr[0]==\"POLYGONS\"):\n",
      "            nt=int(arr[1]);\n",
      "            t=numpy.zeros((nt,3));\n",
      "        elif(nt>0 and it<nt):\n",
      "            j=0;\n",
      "            for val in arr:\n",
      "                try:\n",
      "                    if(j>0):\n",
      "                        t[it,j-1]=int(val);\n",
      "                    j=j+1;\n",
      "                    if(j==4):\n",
      "                        j=0;\n",
      "                        it=it+1;\n",
      "                except:\n",
      "                    pass;\n",
      "\n",
      "        i=i+1;\n",
      "    f.close();\n",
      "    \n",
      "    mesh={};\n",
      "    mesh[\"np\"]=np;\n",
      "    mesh[\"nt\"]=nt;\n",
      "    mesh[\"p\"]=p;\n",
      "    mesh[\"t\"]=t;\n",
      "    return mesh;"
     ],
     "language": "python",
     "metadata": {},
     "outputs": [],
     "prompt_number": 94
    },
    {
     "cell_type": "code",
     "collapsed": false,
     "input": [
      "filepath=\"Ferret Neocortical Folding/p4-F09.vtk\"\n",
      "\n",
      "mesh=open_vtk(filepath);\n",
      "\n",
      "print mesh[\"np\"],\"Points\";\n",
      "print mesh[\"nt\"],\"Triangles\";\n",
      "p=mesh[\"p\"];\n",
      "t=mesh[\"t\"];"
     ],
     "language": "python",
     "metadata": {},
     "outputs": [
      {
       "output_type": "stream",
       "stream": "stdout",
       "text": [
        "5682 Points\n",
        "11360 Triangles\n"
       ]
      }
     ],
     "prompt_number": 102
    },
    {
     "cell_type": "code",
     "collapsed": false,
     "input": [
      "t[45,]"
     ],
     "language": "python",
     "metadata": {},
     "outputs": [
      {
       "metadata": {},
       "output_type": "pyout",
       "prompt_number": 103,
       "text": [
        "array([ 67.,  62.,  71.])"
       ]
      }
     ],
     "prompt_number": 103
    },
    {
     "cell_type": "code",
     "collapsed": false,
     "input": [
      "p[t[45,0],]"
     ],
     "language": "python",
     "metadata": {},
     "outputs": [
      {
       "metadata": {},
       "output_type": "pyout",
       "prompt_number": 104,
       "text": [
        "array([-18.3412, -34.5715,  33.583 ])"
       ]
      }
     ],
     "prompt_number": 104
    },
    {
     "cell_type": "code",
     "collapsed": false,
     "input": [],
     "language": "python",
     "metadata": {},
     "outputs": []
    }
   ],
   "metadata": {}
  }
 ]
}