{
 "cells": [
  {
   "cell_type": "markdown",
   "metadata": {},
   "source": [
    "# My Random Notebooks\n",
    "\n",
    "## Valparaíso workshops\n",
    "* [Workshop 1](Simple neuroimaging.ipynb): Simple neuroimaging analyses using online data\n",
    "* [Workshop 2](Simple genomics.ipynb): Simple genomics analyses using ADNI data\n",
    "* [Workshop 3](Reproducible research.ipynb): Themes and tools for reproducible research\n",
    "* [Workshop 4](Scientific publication.ipynb): Themes and tools for scientific publication\n",
    "\n"
   ]
  },
  {
   "cell_type": "code",
   "execution_count": null,
   "metadata": {
    "collapsed": true
   },
   "outputs": [],
   "source": []
  }
 ],
 "metadata": {
  "anaconda-cloud": {},
  "kernelspec": {
   "display_name": "Python [Root]",
   "language": "python",
   "name": "Python [Root]"
  },
  "language_info": {
   "codemirror_mode": {
    "name": "ipython",
    "version": 2
   },
   "file_extension": ".py",
   "mimetype": "text/x-python",
   "name": "python",
   "nbconvert_exporter": "python",
   "pygments_lexer": "ipython2",
   "version": "2.7.12"
  }
 },
 "nbformat": 4,
 "nbformat_minor": 0
}
