{
 "metadata": {
  "name": "",
  "signature": "sha256:ae7d856b455a29c14604f876763ebccf1ca5ed5d173a817be208965cb4350773"
 },
 "nbformat": 3,
 "nbformat_minor": 0,
 "worksheets": [
  {
   "cells": [
    {
     "cell_type": "markdown",
     "metadata": {},
     "source": [
      "\\begin{eqnarray}\n",
      "f(x,y) &=& \\frac {x-y} {x+y} \\\\\n",
      "f'(x,y) &=& \\frac d {dx}f(x,y)dx + \\frac d {dy}f(x,y)dy \\\\\n",
      "\\frac d {dx} f(x,y) &=& \\frac d {dx} (x(x+y)^{-1}-y(x+y)^{-1}) \\\\\n",
      "&=& \\frac 1 {x+y} - \\frac x {(x+y)^2} + \\frac y {(x+y)^2}\\\\\n",
      "\\frac d {dy} f(x,y) &=& \\frac d {dy} (x(x+y)^{-1}-y(x+y)^{-1}) \\\\\n",
      "&=& \\frac 1 {x+y} - \\frac x {(x+y)^2} + \\frac y {(x+y)^2}\\\\\n",
      "\\end{eqnarray}"
     ]
    },
    {
     "cell_type": "markdown",
     "metadata": {},
     "source": [
      "$y=1-x$\n",
      "$(x-y)/(x+y)=2x$\n"
     ]
    },
    {
     "cell_type": "code",
     "collapsed": false,
     "input": [
      "print(__doc__)\n",
      "\n",
      "# Author: Nelle Varoquaux <nelle.varoquaux@gmail.com>\n",
      "#         Alexandre Gramfort <alexandre.gramfort@inria.fr>\n",
      "# Licence: BSD\n",
      "\n",
      "import numpy as np\n",
      "import matplotlib.pyplot as plt\n",
      "from matplotlib.collections import LineCollection\n",
      "\n",
      "from sklearn.linear_model import LinearRegression\n",
      "from sklearn.isotonic import IsotonicRegression\n",
      "from sklearn.utils import check_random_state\n",
      "\n",
      "n = 100\n",
      "x = np.arange(n)\n",
      "rs = check_random_state(0)\n",
      "y = rs.randint(-50, 50, size=(n,)) + 50. * np.log(1 + np.arange(n))\n",
      "\n",
      "###############################################################################\n",
      "# Fit IsotonicRegression and LinearRegression models\n",
      "\n",
      "ir = IsotonicRegression()\n",
      "\n",
      "y_ = ir.fit_transform(x, y)\n",
      "\n",
      "lr = LinearRegression()\n",
      "lr.fit(x[:, np.newaxis], y)  # x needs to be 2d for LinearRegression\n",
      "\n",
      "###############################################################################\n",
      "# plot result\n",
      "\n",
      "segments = [[[i, y[i]], [i, y_[i]]] for i in range(n)]\n",
      "lc = LineCollection(segments, zorder=0)\n",
      "lc.set_array(np.ones(len(y)))\n",
      "lc.set_linewidths(0.5 * np.ones(n))\n",
      "\n",
      "fig = plt.figure()\n",
      "plt.plot(x, y, 'r.', markersize=12)\n",
      "plt.plot(x, y_, 'g.-', markersize=12)\n",
      "plt.plot(x, lr.predict(x[:, np.newaxis]), 'b-')\n",
      "plt.gca().add_collection(lc)\n",
      "plt.legend(('Data', 'Isotonic Fit', 'Linear Fit'), loc='lower right')\n",
      "plt.title('Isotonic regression')\n",
      "plt.show()"
     ],
     "language": "python",
     "metadata": {},
     "outputs": [
      {
       "output_type": "stream",
       "stream": "stdout",
       "text": [
        "Automatically created module for IPython interactive environment\n"
       ]
      }
     ],
     "prompt_number": 2
    },
    {
     "cell_type": "code",
     "collapsed": false,
     "input": [
      "from sklearn import datasets\n",
      "iris=datasets.load_iris()\n",
      "digits=datasets.load_digits()"
     ],
     "language": "python",
     "metadata": {},
     "outputs": [],
     "prompt_number": 8
    },
    {
     "cell_type": "code",
     "collapsed": false,
     "input": [
      "print(digits.data)"
     ],
     "language": "python",
     "metadata": {},
     "outputs": [
      {
       "output_type": "stream",
       "stream": "stdout",
       "text": [
        "[[  0.   0.   5. ...,   0.   0.   0.]\n",
        " [  0.   0.   0. ...,  10.   0.   0.]\n",
        " [  0.   0.   0. ...,  16.   9.   0.]\n",
        " ..., \n",
        " [  0.   0.   1. ...,   6.   0.   0.]\n",
        " [  0.   0.   2. ...,  12.   0.   0.]\n",
        " [  0.   0.  10. ...,  12.   1.   0.]]\n"
       ]
      }
     ],
     "prompt_number": 9
    },
    {
     "cell_type": "code",
     "collapsed": false,
     "input": [
      "digits.target"
     ],
     "language": "python",
     "metadata": {},
     "outputs": [
      {
       "metadata": {},
       "output_type": "pyout",
       "prompt_number": 10,
       "text": [
        "array([0, 1, 2, ..., 8, 9, 8])"
       ]
      }
     ],
     "prompt_number": 10
    },
    {
     "cell_type": "code",
     "collapsed": false,
     "input": [
      "from sklearn import svm\n",
      "clf=svm.SVC(gamma=0.001,C=100)"
     ],
     "language": "python",
     "metadata": {},
     "outputs": [],
     "prompt_number": 11
    },
    {
     "cell_type": "code",
     "collapsed": false,
     "input": [],
     "language": "python",
     "metadata": {},
     "outputs": []
    }
   ],
   "metadata": {}
  }
 ]
}