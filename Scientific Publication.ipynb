{
 "cells": [
  {
   "cell_type": "markdown",
   "metadata": {
    "slideshow": {
     "slide_type": "slide"
    }
   },
   "source": [
    "# Workshop 4: Rethinking Scientific Publication"
   ]
  },
  {
   "cell_type": "markdown",
   "metadata": {
    "slideshow": {
     "slide_type": "skip"
    }
   },
   "source": [
    "Uno de los principales problemas en meta-investigación es el de la publicación cientifica. La situación actual es claramente dominada por el \"Publish or perish\" – Publica o perece, ampliamente dominante hoy en dia. La re-concepción de la publicación científica y sus objetivos aparece como una etapa esencial para la construcción de una ciencia reproductible y eficaz. En este taller discutiremos de los objetivos de la publicación científica, de las presiones administrativas que la afectan y de los efectos nocivos que esta perversión ha tenido en ciencia biomédica. Discutiremos también de las estrategias que se estan adoptando para resolver este problema, el pre-registro, la publicación de datos, código, flujos de trabajo, y otras formas de producción científica. Durante los bloques prácticos, intentaremos utilizar algunos de los nuevos medios de publicación científica para publicar nuestros propios trabajos (es fuertemente aconsejado traer algun trabajo propio que se desee publicar: abstract, poster, datos, código, etc)."
   ]
  },
  {
   "cell_type": "markdown",
   "metadata": {
    "slideshow": {
     "slide_type": "slide"
    }
   },
   "source": [
    "# Traditional scientific publication\n",
    "\n",
    "<img src=\"Scientific_publication/peerreview.gif\" style=\"width:800px;text-align:center\"/>\n"
   ]
  },
  {
   "cell_type": "markdown",
   "metadata": {
    "slideshow": {
     "slide_type": "slide"
    }
   },
   "source": [
    "# Why do we publish?\n",
    "\n",
    "<img src=\"Scientific_publication/perish.jpg\" style=\"width:1000px\"/>"
   ]
  },
  {
   "cell_type": "markdown",
   "metadata": {
    "slideshow": {
     "slide_type": "slide"
    }
   },
   "source": [
    "\"The emphasis on publishing has __decreased the value of the resulting scholarship__ as scholar must spend time scrambling to publish whatever they can manage, rather than spend time developing significant research agenda. The pressure to publish-or-perish also detracts from the time and effort professors can devote to teaching undergraduate and post-graduates.\"\n",
    "\n",
    "https://www.ncbi.nlm.nih.gov/pmc/articles/PMC3999612/"
   ]
  },
  {
   "cell_type": "markdown",
   "metadata": {
    "slideshow": {
     "slide_type": "slide"
    }
   },
   "source": [
    "<div style=\"font-style:italic;font-size:4rem;line-height:6rem\">\"We (Mr. Rosen and I) had sent you our manuscript for publication and had not authorised you to show it to specialists before it is printed. I see no reason to address the – in any case erroneous – comments of your anonymous expert. On the basis of this incident I prefer to publish the paper elsewhere.\"</div>\n",
    "<div style=\"font-size:4rem;line-height:6rem;text-align:right\">A. Einstein, 1935</div>"
   ]
  },
  {
   "cell_type": "markdown",
   "metadata": {
    "slideshow": {
     "slide_type": "slide"
    }
   },
   "source": [
    "# Publishing business\n",
    "\n",
    "\"In the 1960s and 1970s, commercial publishers began to selectively acquire \"top-quality\" journals which were previously published by nonprofit academic societies. Due to the __inelastic demand for these journals__, the commercial publishers lost little of the market when they raised the prices significantly.\"\n",
    "\n",
    "\"Unlike most industries, in academic publishing the two most important inputs are provided __\"virtually free of charge\"__. These are the articles and the peer review process.\"\n",
    "\n",
    "https://en.wikipedia.org/wiki/Academic_publishing"
   ]
  },
  {
   "cell_type": "markdown",
   "metadata": {
    "slideshow": {
     "slide_type": "slide"
    }
   },
   "source": [
    "# The case of Elsevier\n",
    "\n",
    "\n",
    "<div style=\"width:1100px\">\n",
    "<br/>\n",
    "<table style=\"border:0\">\n",
    "<tr><td>2012</td><td>2014</td></tr>\n",
    "<tr>\n",
    "  <td><img src=\"Scientific_publication/elsevier2012.png\" style=\"width:550px\"/></td>\n",
    "  <td><img src=\"Scientific_publication/elsevier2014.png\" style=\"width:550px\"/></td>\n",
    "</tr>\n",
    "</table>\n",
    "</div>"
   ]
  },
  {
   "cell_type": "markdown",
   "metadata": {
    "slideshow": {
     "slide_type": "slide"
    }
   },
   "source": [
    "<div style=\"background:#2a4d8f;padding:10px\">\n",
    "<img src=\"Scientific_publication/doralogo.png\" style=\"width:40%\"/>\n",
    "</div>\n",
    "\n",
    "17 specific recommendations, and a __General recommendation__:\n",
    "\n",
    "<div style=\"padding:4rem;font-size:5rem;line-height:8rem\">\n",
    "_\"Do not use journal-based metrics, such as Journal Impact Factors (JIFs), as surrogate measures of the quality of individual research articles, to assess an individual scientist’s contributions, or in hiring, promotion, or funding decisions.\"_\n",
    "</div>\n",
    "\n",
    "http://www.ascb.org/dora/"
   ]
  },
  {
   "cell_type": "markdown",
   "metadata": {
    "slideshow": {
     "slide_type": "slide"
    }
   },
   "source": [
    "<img src=\"Scientific_publication/dora.png\" style=\"width:1100px\"/>"
   ]
  },
  {
   "cell_type": "markdown",
   "metadata": {
    "slideshow": {
     "slide_type": "slide"
    }
   },
   "source": [
    "# Peer-review\n",
    "\n",
    "<img style=\"width:800px\" src=\"Scientific_publication/peer-review.jpg\" />"
   ]
  },
  {
   "cell_type": "markdown",
   "metadata": {
    "slideshow": {
     "slide_type": "slide"
    }
   },
   "source": [
    "# Innovation in peer review\n",
    "\n",
    "\n",
    "__PRE-PRINT SERVERS__: \"Pre-print servers can be an effective way of allowing researchers to share and get early feedback on preliminary research. The system is well established in the physics community, and works particularly well, co-existing with more traditional publication in journals. We encourage exploration in other fields.\"\n",
    "\n",
    "__OPEN PEER REVIEW__: \"We encourage publishers to experiment with the various models of open peer review and transparency and actively engage researchers in taking part.\"\n",
    "\n",
    "__ONLINE REPOSITORY JOURNALS__: \"We are impressed by the success of PLoS ONE and welcome the wider growth of quality online repository journals. These will accelerate the pace of research communication and ensure that all work that is scientifically sound is published, regardless of its perceived importance.\"\n",
    "\n",
    "http://www.parliament.uk/business/committees/committees-a-z/commons-select/science-and-technology-committee/news/110728-peer-review-published/"
   ]
  },
  {
   "cell_type": "markdown",
   "metadata": {
    "collapsed": true,
    "slideshow": {
     "slide_type": "slide"
    }
   },
   "source": [
    "![](Scientific_publication/preprint-policy.png)\n",
    "https://en.wikipedia.org/wiki/List_of_academic_journals_by_preprint_policy"
   ]
  },
  {
   "cell_type": "markdown",
   "metadata": {
    "slideshow": {
     "slide_type": "slide"
    }
   },
   "source": [
    "# Nature Confidentiality clause: Preprint servers\n",
    "\n",
    "_\"The Nature journals support the posting of submitted manuscripts on community preprint servers such as arXiv and bioRxiv. We do, however, ask you to respect the following summary of our policies:\"_\n",
    "\n",
    "* _The original submitted version may be posted at any time._\n",
    "* _The accepted version may be posted 6 months after publication._\n",
    "* _The published version—copyedited and in Nature journal format—may not be posted on a preprint server or other website.\"_\n",
    "\n",
    "http://www.nature.com/authors/policies/confidentiality.html"
   ]
  },
  {
   "cell_type": "markdown",
   "metadata": {
    "slideshow": {
     "slide_type": "slide"
    }
   },
   "source": [
    "![](Scientific_publication/arxiv.png)"
   ]
  },
  {
   "cell_type": "markdown",
   "metadata": {
    "slideshow": {
     "slide_type": "slide"
    }
   },
   "source": [
    "![](Scientific_publication/biorxiv.png)"
   ]
  },
  {
   "cell_type": "markdown",
   "metadata": {
    "slideshow": {
     "slide_type": "slide"
    }
   },
   "source": [
    "![](Scientific_publication/zenodo.png)"
   ]
  },
  {
   "cell_type": "markdown",
   "metadata": {},
   "source": [
    "![](Scientific_publication/figshare.png)"
   ]
  },
  {
   "cell_type": "markdown",
   "metadata": {
    "slideshow": {
     "slide_type": "slide"
    }
   },
   "source": [
    "# Publishing all research outcomes: RIO journal\n",
    "\n",
    "Opening-up the early stages of research – LSE blog about RIO\n",
    "\n",
    "_\"Few like to admit it, but the traditional process of research is immensely wasteful. Inefficiency occurs in every part of the research cycle, perhaps none more so than the research proposal stage. For example, __nearly 90% of EU Horizon 2020 grant proposals were rejected__. Many of these proposals are extremely good works, written by teams, over many months of work. Significant effort goes into crafting research proposals, yet as research outputs in themselves, they are hugely under-utilised. After the proposals are scored and either funded or not funded, typically via closed processes, what happens to these documents? Most stay hidden, never to be seen again, regardless of whether they were funded or not.\"_"
   ]
  },
  {
   "cell_type": "markdown",
   "metadata": {
    "slideshow": {
     "slide_type": "slide"
    }
   },
   "source": [
    "# What Can I Publish\n",
    "\n",
    "### RIO journal accepts submissions of ALL these different types of research ideas and outcomes:\n",
    "\n",
    "Research Ideas,\n",
    "Research Proposals,\n",
    "Research Articles,\n",
    "Review Articles,\n",
    "Commentaries,\n",
    "Data Papers (Spreadsheets, Sound Recordings, Videos, Imaging Scans, Photos, any data format), \n",
    "Software Descriptions,\n",
    "Workflows,\n",
    "Registered Experimental Designs,\n",
    "Data Management Plans,\n",
    "Software Management Plans,\n",
    "Grant Proposals,\n",
    "Conference Abstracts,\n",
    "Research Presentations,\n",
    "Research Posters,\n",
    "Single-media Publications,\n",
    "PhD Projects,\n",
    "PhD Thesis,\n",
    "PostDoc Projects,\n",
    "Project Reports (including milestones and deliverables; especially final reports),\n",
    "Methods,\n",
    "Policy and Communication Briefs,\n",
    "Citizen Science Reports,\n",
    "Replication studies,\n",
    "Wikipedia articles,\n",
    "Case Studies,\n",
    "Biographies,\n",
    "Book Reviews,\n",
    "Editorials,\n",
    "Correspondences,\n",
    "Corrigenda, ...\n",
    "\n",
    "### RIO does not accept for publication:\n",
    "\n",
    "Teaching Lectures,\n",
    "Other Teaching Materials,\n",
    "Clinical Trials,\n",
    "Patient Data or other data that would be unethical to publish,\n",
    "Homeopathy or Homeopathy-related outputs,\n",
    "Nuclear or Bioweapons-related outputs,\n",
    "Creationist or ‘Young Earth’ or other religiously-motivated research outputs,\n",
    "Cryptozoology,\n",
    "Pseudoscience, ..."
   ]
  },
  {
   "cell_type": "markdown",
   "metadata": {
    "slideshow": {
     "slide_type": "slide"
    }
   },
   "source": [
    "![](Scientific_publication/post-publication-peer-review.jpg)\n",
    "http://blog.riojournal.com/2016/10/04/in-a-nutshell-the-four-peer-review-stages-in-rio-explained/"
   ]
  },
  {
   "cell_type": "markdown",
   "metadata": {
    "slideshow": {
     "slide_type": "slide"
    }
   },
   "source": [
    "![](Scientific_publication/registered-reports.png)"
   ]
  },
  {
   "cell_type": "markdown",
   "metadata": {
    "slideshow": {
     "slide_type": "slide"
    }
   },
   "source": [
    "![](Scientific_publication/scientific-data.png)"
   ]
  },
  {
   "cell_type": "markdown",
   "metadata": {
    "slideshow": {
     "slide_type": "slide"
    }
   },
   "source": [
    "![](Scientific_publication/publish-code.png)"
   ]
  },
  {
   "cell_type": "markdown",
   "metadata": {
    "slideshow": {
     "slide_type": "slide"
    }
   },
   "source": [
    "# Links\n",
    "\n",
    "https://guides.github.com/activities/citable-code/\n",
    "\n",
    "https://www.theguardian.com/science/2011/sep/05/publish-perish-peer-review-science\n",
    "\n",
    "http://www.sciencemag.org/news/2014/07/1-scientific-publishing\n",
    "\n",
    "https://medium.com/@jasonschmitt/can-t-disrupt-this-elsevier-and-the-25-2-billion-dollar-a-year-academic-publishing-business-aa3b9618d40a#.tfkye7fm3\n",
    "\n",
    "http://www.journals.elsevier.com/cortex/news/registered-reports-a-new-article-format-from-cortex/\n"
   ]
  }
 ],
 "metadata": {
  "anaconda-cloud": {},
  "celltoolbar": "Slideshow",
  "kernelspec": {
   "display_name": "Python [Root]",
   "language": "python",
   "name": "Python [Root]"
  },
  "language_info": {
   "codemirror_mode": {
    "name": "ipython",
    "version": 2
   },
   "file_extension": ".py",
   "mimetype": "text/x-python",
   "name": "python",
   "nbconvert_exporter": "python",
   "pygments_lexer": "ipython2",
   "version": "2.7.12"
  }
 },
 "nbformat": 4,
 "nbformat_minor": 0
}
