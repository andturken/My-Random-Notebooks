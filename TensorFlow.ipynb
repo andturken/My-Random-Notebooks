{
 "cells": [
  {
   "cell_type": "markdown",
   "metadata": {},
   "source": [
    "# Testing TensorFlow\n",
    "\n",
    "To install tensorflow I created conda environments: tensorflow (using python 2.7), tensorflow34 (python 3.4) and tensorflow35 (python 3.5) like this\n",
    "\n",
    "```\n",
    "conda create -n tensorflow python=2.7\n",
    "conda create -n tensorflow34 python=3.4\n",
    "conda create -n tensorflow35 python=3.5\n",
    "```\n",
    "\n",
    "After that, I installed tensorflow 0.12 within the tensorflow34 environment, but some functionalities were broken (numpy_input_fn in tf.contrib). So I installed tensorflow 1.0 within the tensor35 environment (because tensorflow 1.0 requires python 3.5). I also installed jupyter within the tensorflow34 environment first, and within the tensorflow35 environment next (`pip install jupyter`).\n",
    "\n",
    "These are steps to use tensorflow35:\n",
    "\n",
    "```\n",
    "source activate tensorflow35\n",
    "jupyter notebook\n",
    "```\n",
    "\n",
    "After using it, deactivate the conda environment:\n",
    "\n",
    "```\n",
    "source deactivate\n",
    "```\n",
    "\n",
    "Here's the standard test of the tensorflow installation"
   ]
  },
  {
   "cell_type": "code",
   "execution_count": 1,
   "metadata": {},
   "outputs": [
    {
     "name": "stdout",
     "output_type": "stream",
     "text": [
      "b'Hello, TensorFlow!'\n"
     ]
    }
   ],
   "source": [
    "import tensorflow as tf\n",
    "import numpy as np\n",
    "\n",
    "hello = tf.constant('Hello, TensorFlow!')\n",
    "sess = tf.Session()\n",
    "print(sess.run(hello))"
   ]
  },
  {
   "cell_type": "code",
   "execution_count": 2,
   "metadata": {},
   "outputs": [
    {
     "name": "stdout",
     "output_type": "stream",
     "text": [
      "42\n"
     ]
    }
   ],
   "source": [
    "a = tf.constant(10) #implicit tf.float32\n",
    "b = tf.constant(32)\n",
    "print(sess.run(a + b))"
   ]
  },
  {
   "cell_type": "markdown",
   "metadata": {
    "collapsed": true
   },
   "source": [
    "The following code is taken from TensorFlow's getting started page.\n",
    "\n",
    "## Nodes"
   ]
  },
  {
   "cell_type": "code",
   "execution_count": 3,
   "metadata": {
    "collapsed": true
   },
   "outputs": [],
   "source": [
    "node3 = tf.add(a,b)"
   ]
  },
  {
   "cell_type": "code",
   "execution_count": 4,
   "metadata": {},
   "outputs": [
    {
     "name": "stdout",
     "output_type": "stream",
     "text": [
      "42\n"
     ]
    }
   ],
   "source": [
    "print(sess.run(node3))"
   ]
  },
  {
   "cell_type": "markdown",
   "metadata": {},
   "source": [
    "## Computing nodes"
   ]
  },
  {
   "cell_type": "code",
   "execution_count": 5,
   "metadata": {},
   "outputs": [
    {
     "name": "stdout",
     "output_type": "stream",
     "text": [
      "7.5\n",
      "[ 3.  7.]\n",
      "22.5\n"
     ]
    }
   ],
   "source": [
    "node_a = tf.placeholder(tf.float32)\n",
    "node_b = tf.placeholder(tf.float32)\n",
    "\n",
    "node_adder=node_a + node_b  # + provides a shortcut for tf.add(a, b)\n",
    "\n",
    "add_and_triple = node_adder * 3.\n",
    "\n",
    "print(sess.run(node_adder, {node_a: 3, node_b:4.5}))\n",
    "print(sess.run(node_adder, {node_a: [1,3], node_b: [2, 4]}))\n",
    "print(sess.run(add_and_triple, {node_a: 3, node_b:4.5}))\n"
   ]
  },
  {
   "cell_type": "markdown",
   "metadata": {},
   "source": [
    "## Variables"
   ]
  },
  {
   "cell_type": "code",
   "execution_count": 6,
   "metadata": {
    "collapsed": true
   },
   "outputs": [],
   "source": [
    "W = tf.Variable([.3], tf.float32) # Weights\n",
    "b = tf.Variable([-.3], tf.float32) # intercept (mean values)\n",
    "x = tf.placeholder(tf.float32) # input vector\n",
    "linear_model = W * x + b # linear model"
   ]
  },
  {
   "cell_type": "markdown",
   "metadata": {},
   "source": [
    "Contraty to constants that are self-initialising, variables need to be explicitly initialised"
   ]
  },
  {
   "cell_type": "code",
   "execution_count": 7,
   "metadata": {
    "collapsed": true
   },
   "outputs": [],
   "source": [
    "init = tf.global_variables_initializer()\n",
    "sess.run(init)"
   ]
  },
  {
   "cell_type": "code",
   "execution_count": 8,
   "metadata": {},
   "outputs": [
    {
     "name": "stdout",
     "output_type": "stream",
     "text": [
      "[ 0.          0.30000001  0.60000002  0.90000004]\n"
     ]
    }
   ],
   "source": [
    "print(sess.run(linear_model, {x:[1,2,3,4]}))\n"
   ]
  },
  {
   "cell_type": "markdown",
   "metadata": {},
   "source": [
    "Now we add a placeholder y for data, a squared difference function, and a loss function, which is the sum of the squared differences"
   ]
  },
  {
   "cell_type": "code",
   "execution_count": 9,
   "metadata": {},
   "outputs": [
    {
     "name": "stdout",
     "output_type": "stream",
     "text": [
      "23.66\n"
     ]
    }
   ],
   "source": [
    "y = tf.placeholder(tf.float32)\n",
    "squared_deltas = tf.square(linear_model - y)\n",
    "loss = tf.reduce_sum(squared_deltas)\n",
    "print(sess.run(loss, {x:[1,2,3,4], y:[0,-1,-2,-3]})) # (if y were [0,0.3,0.6,0.9] the result would be 0)"
   ]
  },
  {
   "cell_type": "markdown",
   "metadata": {},
   "source": [
    "If we manually assign the optimal values for W and b, we can get a model that perfectly fits the data (the single value data...). Now, the loss will be 0:"
   ]
  },
  {
   "cell_type": "code",
   "execution_count": 10,
   "metadata": {},
   "outputs": [
    {
     "name": "stdout",
     "output_type": "stream",
     "text": [
      "0.0\n"
     ]
    }
   ],
   "source": [
    "fixW = tf.assign(W, [-1.])\n",
    "fixb = tf.assign(b, [1.])\n",
    "sess.run([fixW, fixb])\n",
    "print(sess.run(loss, {x:[1,2,3,4], y:[0,-1,-2,-3]}))"
   ]
  },
  {
   "cell_type": "markdown",
   "metadata": {},
   "source": [
    "## Train\n",
    "\n",
    "This is a toy example of automatically finding the correct values of W and b by gradient descent"
   ]
  },
  {
   "cell_type": "code",
   "execution_count": 11,
   "metadata": {},
   "outputs": [
    {
     "name": "stdout",
     "output_type": "stream",
     "text": [
      "[array([-0.9999969], dtype=float32), array([ 0.99999082], dtype=float32)]\n"
     ]
    }
   ],
   "source": [
    "optimizer = tf.train.GradientDescentOptimizer(0.01)\n",
    "train = optimizer.minimize(loss)\n",
    "sess.run(init) # reset values to incorrect defaults.\n",
    "for i in range(1000):\n",
    "  sess.run(train, {x:[1,2,3,4], y:[0,-1,-2,-3]})\n",
    "\n",
    "print(sess.run([W, b]))"
   ]
  },
  {
   "cell_type": "markdown",
   "metadata": {},
   "source": [
    "## The layout of a complete model trainning:"
   ]
  },
  {
   "cell_type": "code",
   "execution_count": 12,
   "metadata": {},
   "outputs": [
    {
     "name": "stdout",
     "output_type": "stream",
     "text": [
      "W: [-0.9999969] b: [ 0.99999082] loss: 5.69997e-11\n"
     ]
    }
   ],
   "source": [
    "# Model parameters\n",
    "W = tf.Variable([.3], tf.float32)\n",
    "b = tf.Variable([-.3], tf.float32)\n",
    "\n",
    "# Model input and output\n",
    "x = tf.placeholder(tf.float32)\n",
    "linear_model = W * x + b\n",
    "y = tf.placeholder(tf.float32)\n",
    "\n",
    "# loss\n",
    "loss = tf.reduce_sum(tf.square(linear_model - y)) # sum of the squares\n",
    "\n",
    "# optimizer\n",
    "optimizer = tf.train.GradientDescentOptimizer(0.01)\n",
    "train = optimizer.minimize(loss)\n",
    "\n",
    "# training data\n",
    "x_train = [1,2,3,4]\n",
    "y_train = [0,-1,-2,-3]\n",
    "\n",
    "# training loop\n",
    "init = tf.global_variables_initializer()\n",
    "sess = tf.Session()\n",
    "sess.run(init) # reset values to wrong\n",
    "for i in range(1000):\n",
    "  sess.run(train, {x:x_train, y:y_train})\n",
    "\n",
    "# evaluate training accuracy\n",
    "curr_W, curr_b, curr_loss  = sess.run([W, b, loss], {x:x_train, y:y_train})\n",
    "print(\"W: %s b: %s loss: %s\"%(curr_W, curr_b, curr_loss))"
   ]
  },
  {
   "cell_type": "markdown",
   "metadata": {},
   "source": [
    "## Contrib: packed models\n",
    "\n",
    "tf.contrib.learn provides a series of wrappers for\n",
    "\n",
    "* running training loops\n",
    "* running evaluation loops\n",
    "* managing datasets\n",
    "* managing feeding\n",
    "\n",
    "Here's the same linear model implemented using contrib:"
   ]
  },
  {
   "cell_type": "code",
   "execution_count": 13,
   "metadata": {},
   "outputs": [
    {
     "name": "stdout",
     "output_type": "stream",
     "text": [
      "WARNING:tensorflow:Using temporary folder as model directory: /var/folders/w1/qnhkrsc97nddjm3vf00ppx940000gn/T/tmppgre0j5z\n",
      "INFO:tensorflow:Using default config.\n",
      "INFO:tensorflow:Using config: {'_save_checkpoints_secs': 600, '_task_id': 0, '_tf_random_seed': None, '_keep_checkpoint_every_n_hours': 10000, '_master': '', '_evaluation_master': '', '_num_ps_replicas': 0, '_task_type': None, '_environment': 'local', '_cluster_spec': <tensorflow.python.training.server_lib.ClusterSpec object at 0x11373b400>, '_tf_config': gpu_options {\n",
      "  per_process_gpu_memory_fraction: 1\n",
      "}\n",
      ", '_keep_checkpoint_max': 5, '_is_chief': True, '_save_checkpoints_steps': None, '_save_summary_steps': 100}\n",
      "WARNING:tensorflow:Rank of input Tensor (1) should be the same as output_rank (2) for column. Will attempt to expand dims. It is highly recommended that you resize your input, as this behavior may change.\n",
      "WARNING:tensorflow:From //anaconda/envs/tensorflow35/lib/python3.5/site-packages/tensorflow/contrib/learn/python/learn/estimators/head.py:1362: scalar_summary (from tensorflow.python.ops.logging_ops) is deprecated and will be removed after 2016-11-30.\n",
      "Instructions for updating:\n",
      "Please switch to tf.summary.scalar. Note that tf.summary.scalar uses the node name instead of the tag. This means that TensorFlow will automatically de-duplicate summary names based on the scope they are created in. Also, passing a tensor or list of tags to a scalar summary op is no longer supported.\n",
      "INFO:tensorflow:Create CheckpointSaverHook.\n",
      "INFO:tensorflow:Saving checkpoints for 1 into /var/folders/w1/qnhkrsc97nddjm3vf00ppx940000gn/T/tmppgre0j5z/model.ckpt.\n",
      "INFO:tensorflow:loss = 6.75, step = 1\n",
      "INFO:tensorflow:global_step/sec: 1321.86\n",
      "INFO:tensorflow:loss = 0.103282, step = 101\n",
      "INFO:tensorflow:global_step/sec: 1329.04\n",
      "INFO:tensorflow:loss = 0.0207299, step = 201\n",
      "INFO:tensorflow:global_step/sec: 1252.84\n",
      "INFO:tensorflow:loss = 0.00649822, step = 301\n",
      "INFO:tensorflow:global_step/sec: 1265.44\n",
      "INFO:tensorflow:loss = 0.00378829, step = 401\n",
      "INFO:tensorflow:global_step/sec: 1234.11\n",
      "INFO:tensorflow:loss = 0.000710784, step = 501\n",
      "INFO:tensorflow:global_step/sec: 1307.74\n",
      "INFO:tensorflow:loss = 0.00024106, step = 601\n",
      "INFO:tensorflow:global_step/sec: 1317.73\n",
      "INFO:tensorflow:loss = 5.4891e-05, step = 701\n",
      "INFO:tensorflow:global_step/sec: 1474.86\n",
      "INFO:tensorflow:loss = 1.24957e-05, step = 801\n",
      "INFO:tensorflow:global_step/sec: 1737.41\n",
      "INFO:tensorflow:loss = 1.26156e-05, step = 901\n",
      "INFO:tensorflow:Saving checkpoints for 1000 into /var/folders/w1/qnhkrsc97nddjm3vf00ppx940000gn/T/tmppgre0j5z/model.ckpt.\n",
      "INFO:tensorflow:Loss for final step: 1.14801e-06.\n",
      "WARNING:tensorflow:Rank of input Tensor (1) should be the same as output_rank (2) for column. Will attempt to expand dims. It is highly recommended that you resize your input, as this behavior may change.\n",
      "WARNING:tensorflow:From //anaconda/envs/tensorflow35/lib/python3.5/site-packages/tensorflow/contrib/learn/python/learn/estimators/head.py:1362: scalar_summary (from tensorflow.python.ops.logging_ops) is deprecated and will be removed after 2016-11-30.\n",
      "Instructions for updating:\n",
      "Please switch to tf.summary.scalar. Note that tf.summary.scalar uses the node name instead of the tag. This means that TensorFlow will automatically de-duplicate summary names based on the scope they are created in. Also, passing a tensor or list of tags to a scalar summary op is no longer supported.\n",
      "INFO:tensorflow:Starting evaluation at 2017-02-20-10:22:25\n",
      "INFO:tensorflow:Finished evaluation at 2017-02-20-10:22:26\n",
      "INFO:tensorflow:Saving dict for global step 1000: global_step = 1000, loss = 2.25301e-06\n",
      "WARNING:tensorflow:Skipping summary for global_step, must be a float or np.float32.\n"
     ]
    },
    {
     "data": {
      "text/plain": [
       "{'global_step': 1000, 'loss': 2.2530055e-06}"
      ]
     },
     "execution_count": 13,
     "metadata": {},
     "output_type": "execute_result"
    }
   ],
   "source": [
    "features = [tf.contrib.layers.real_valued_column(\"x\", dimension=1)]\n",
    "estimator = tf.contrib.learn.LinearRegressor(feature_columns=features)\n",
    "x = np.array([1., 2., 3., 4.])\n",
    "y = np.array([0., -1., -2., -3.])\n",
    "input_fn = tf.contrib.learn.io.numpy_input_fn({\"x\":x}, y, batch_size=4, num_epochs=1000)\n",
    "estimator.fit(input_fn=input_fn, steps=1000)\n",
    "estimator.evaluate(input_fn=input_fn)"
   ]
  }
 ],
 "metadata": {
  "anaconda-cloud": {},
  "kernelspec": {
   "display_name": "Python [tensorflow35]",
   "language": "python",
   "name": "Python [tensorflow35]"
  },
  "language_info": {
   "codemirror_mode": {
    "name": "ipython",
    "version": 3
   },
   "file_extension": ".py",
   "mimetype": "text/x-python",
   "name": "python",
   "nbconvert_exporter": "python",
   "pygments_lexer": "ipython3",
   "version": "3.5.2"
  }
 },
 "nbformat": 4,
 "nbformat_minor": 1
}
