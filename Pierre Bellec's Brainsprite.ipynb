{
 "cells": [
  {
   "cell_type": "code",
   "execution_count": 13,
   "metadata": {
    "collapsed": true
   },
   "outputs": [],
   "source": [
    "from IPython.display import Javascript, display, HTML"
   ]
  },
  {
   "cell_type": "code",
   "execution_count": 14,
   "metadata": {},
   "outputs": [
    {
     "data": {
      "text/html": [
       "\n",
       "<script src=\"https://rawgit.com/SIMEXP/brainsprite.js/master/assets/brainsprite.min.js\"></script>\n",
       "<div>\n",
       "  <canvas id=\"3Dviewer\"></canvas>\n",
       "  <img id=\"spriteImg\" class=\"hidden\" src=\"https://rawgit.com/SIMEXP/brainsprite.js/master/tests/sprite.jpg\" />\n",
       "</div>\n",
       "<script>\n",
       "  window.brain=brainsprite({\n",
       "    canvas: \"3Dviewer\",\n",
       "    sprite:\"spriteImg\",\n",
       "    nbSlice:{Y:233,Z:189}\n",
       "});\n",
       "</script>\n"
      ],
      "text/plain": [
       "<IPython.core.display.HTML object>"
      ]
     },
     "metadata": {},
     "output_type": "display_data"
    }
   ],
   "source": [
    "display(HTML('''\n",
    "<script src=\"https://rawgit.com/SIMEXP/brainsprite.js/master/assets/brainsprite.min.js\"></script>\n",
    "<div>\n",
    "  <canvas id=\"3Dviewer\"></canvas>\n",
    "  <img id=\"spriteImg\" class=\"hidden\" src=\"https://rawgit.com/SIMEXP/brainsprite.js/master/tests/sprite.jpg\" />\n",
    "</div>\n",
    "<script>\n",
    "  window.brain=brainsprite({\n",
    "    canvas: \"3Dviewer\",\n",
    "    sprite:\"spriteImg\",\n",
    "    nbSlice:{Y:233,Z:189}\n",
    "});\n",
    "</script>\n",
    "'''));\n"
   ]
  },
  {
   "cell_type": "code",
   "execution_count": null,
   "metadata": {
    "collapsed": true
   },
   "outputs": [],
   "source": []
  }
 ],
 "metadata": {
  "kernelspec": {
   "display_name": "Python [Root]",
   "language": "python",
   "name": "Python [Root]"
  },
  "language_info": {
   "codemirror_mode": {
    "name": "ipython",
    "version": 2
   },
   "file_extension": ".py",
   "mimetype": "text/x-python",
   "name": "python",
   "nbconvert_exporter": "python",
   "pygments_lexer": "ipython2",
   "version": "2.7.12"
  }
 },
 "nbformat": 4,
 "nbformat_minor": 1
}
